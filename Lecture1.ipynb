{
  "cells": [
    {
      "cell_type": "markdown",
      "metadata": {
        "id": "R6JQQpb-2OhI"
      },
      "source": [
        "### **Lecture 1**\n",
        "\n",
        "### **Read/do the notes in Lecture0.md first!!!**\n",
        "\n",
        "### **Introduction: jypiter, variables, types, lists, control flow, functions**\n",
        "\n",
        "#### **Jupyter**\n",
        "\n",
        "\n",
        "This is jupyter notebook (install jupyter-lab). Jupyter is good for  testing commands, playing around, creating plots and creating code with notes, it can handle basic latex for formulas, eg:\n",
        "\n",
        "$F_i(a,b,c) = \\int dx f_i(a x) f_i(b x) f_i(c x)$\n",
        "\n",
        "and it can export the notebook as .tex, .html and .pdf for sharing or using in papers and talks.\n",
        "\n",
        "For serious projects, you want to have `.py` files, which you can also create from the notebook if you don't want to create them in editor. If I were checking homework, I would ask for a `.py` file.\n",
        "\n",
        "Some navigation commands: (please google whatever else you think you need)\n",
        "\n",
        " - to execute a cell, type `shift+enter` (if it doesn't work, try a different browser)\n",
        " - to get \"markdown cell\", press `esc` (to get into command mode) , then `m`\n",
        " - to insert a cell above the current one, press `esc`, then `a`\n",
        " - to insert a cell below the current one, press `esc`, then `b`\n",
        " - to delete a cell, type `esc`, then`dd`\n",
        " - to hide the side bar, press `ctr+b`"
      ]
    },
    {
      "cell_type": "markdown",
      "metadata": {
        "id": "njhTfZeH2OhN"
      },
      "source": [
        "#### **Data Types**\n",
        "\n",
        "the first thing we need to know is what kind of types exist"
      ]
    },
    {
      "cell_type": "code",
      "execution_count": null,
      "metadata": {
        "id": "APTsh5IM2OhN"
      },
      "outputs": [],
      "source": []
    },
    {
      "cell_type": "code",
      "execution_count": null,
      "metadata": {
        "id": "YYLkT9u12OhO",
        "outputId": "8b76656e-97e0-4868-de4a-39eb708b1b75",
        "colab": {
          "base_uri": "https://localhost:8080/"
        }
      },
      "outputs": [
        {
          "output_type": "stream",
          "name": "stdout",
          "text": [
            "<class 'int'>\n",
            "<class 'float'>\n",
            "<class 'float'>\n",
            "<class 'complex'>\n",
            "<class 'bool'>\n",
            "<class 'str'>\n",
            "<class 'NoneType'>\n"
          ]
        }
      ],
      "source": [
        "a = 7          # Integer\n",
        "b = 7.3        # Floating point number\n",
        "c = 4e0        # Again a float, but in enginering notation\n",
        "d = 8.0 + 2.1j # Complex numbers (enginering notation)\n",
        "e = True       # Boolean (True or False)\n",
        "f = 'Hello World'    # Strings\n",
        "g = None       # None type, a special type which just means no type or 'null'\n",
        "print(type(a))\n",
        "print(type(b))\n",
        "print(type(c))\n",
        "print(type(d))\n",
        "print(type(e))\n",
        "print(type(f))\n",
        "print(type(g))"
      ]
    },
    {
      "cell_type": "markdown",
      "metadata": {
        "id": "oMPITRS12OhP"
      },
      "source": [
        "Python is dynamically typed, meaning we can do:"
      ]
    },
    {
      "cell_type": "code",
      "execution_count": null,
      "metadata": {
        "id": "k2Nkf3Vw2OhQ"
      },
      "outputs": [],
      "source": [
        "f=34\n",
        "a=343"
      ]
    },
    {
      "cell_type": "markdown",
      "metadata": {
        "id": "a7jsQzRM2OhQ"
      },
      "source": [
        "There is no limit on the size of the integer (but don't get happy about that, it's slow if you need a lot of those numbers)"
      ]
    },
    {
      "cell_type": "code",
      "execution_count": null,
      "metadata": {
        "id": "g4784g112OhR",
        "outputId": "0a606b53-7a29-43c6-a64e-18f183954129"
      },
      "outputs": [
        {
          "data": {
            "text/plain": [
              "23230572289359689381360041249468936651337747214271735520348475814366229521474487217114740552185752832303204517288887957329989086896084060300900"
            ]
          },
          "execution_count": 3,
          "metadata": {},
          "output_type": "execute_result"
        }
      ],
      "source": [
        "i=123456789012345678901234567890\n",
        "j=1234567890129874897238748234799848932749827\n",
        "i*j*j*i"
      ]
    },
    {
      "cell_type": "markdown",
      "metadata": {
        "id": "GboQ5JJF2OhR"
      },
      "source": [
        "floats do have limits: for double precision (which is used by default) you get and exponent (of 2) between -1022 and +1023 (-307 to 308 base 10) and ~16 decimal places."
      ]
    },
    {
      "cell_type": "code",
      "execution_count": null,
      "metadata": {
        "id": "tPkA4ZZh2OhS",
        "outputId": "2282e333-db72-4ced-af9a-e5051dfe9776"
      },
      "outputs": [
        {
          "name": "stdout",
          "output_type": "stream",
          "text": [
            "7.563874115270735e+272\n"
          ]
        },
        {
          "ename": "OverflowError",
          "evalue": "(34, 'Result too large')",
          "output_type": "error",
          "traceback": [
            "\u001b[1;31m---------------------------------------------------------------------------\u001b[0m",
            "\u001b[1;31mOverflowError\u001b[0m                             Traceback (most recent call last)",
            "Cell \u001b[1;32mIn[4], line 2\u001b[0m\n\u001b[0;32m      1\u001b[0m \u001b[38;5;28mprint\u001b[39m(\u001b[38;5;241m12.3456789\u001b[39m\u001b[38;5;241m*\u001b[39m\u001b[38;5;241m*\u001b[39m\u001b[38;5;241m250\u001b[39m)\n\u001b[1;32m----> 2\u001b[0m \u001b[38;5;28mprint\u001b[39m(\u001b[38;5;241;43m12.3456789\u001b[39;49m\u001b[38;5;241;43m*\u001b[39;49m\u001b[38;5;241;43m*\u001b[39;49m\u001b[38;5;241;43m350\u001b[39;49m)\n",
            "\u001b[1;31mOverflowError\u001b[0m: (34, 'Result too large')"
          ]
        }
      ],
      "source": [
        "print(12.3456789**250)\n",
        "print(12.3456789**350)"
      ]
    },
    {
      "cell_type": "markdown",
      "metadata": {
        "id": "LY8zC41d2OhT"
      },
      "source": [
        "**Arythmetic operations:**\n"
      ]
    },
    {
      "cell_type": "code",
      "execution_count": null,
      "metadata": {
        "id": "xtW1DmFb2OhT",
        "outputId": "859c21ad-94c4-409a-9ede-100b354b362b"
      },
      "outputs": [
        {
          "name": "stdout",
          "output_type": "stream",
          "text": [
            "55\n",
            "13\n",
            "714\n",
            "1.619047619047619\n",
            "1\n",
            "13\n",
            "144896287389534090178492559785984\n"
          ]
        }
      ],
      "source": [
        "x = 34\n",
        "y = 21\n",
        "print(x + y)  # Addition\n",
        "print(x - y)  # Subtraction\n",
        "print(x * y)  # Multiplication\n",
        "print(x / y)  # Division\n",
        "print(x // y) # Floor function\n",
        "print(x % y)  # Modulus\n",
        "print(x ** y) # Exponentiation"
      ]
    },
    {
      "cell_type": "markdown",
      "metadata": {
        "id": "f67v7nG_2OhT"
      },
      "source": [
        "Be careful with integer division:"
      ]
    },
    {
      "cell_type": "code",
      "execution_count": null,
      "metadata": {
        "id": "Nc26uQV52OhU",
        "outputId": "b7f4fe2d-d9ef-4b44-9052-730fa59a2e40"
      },
      "outputs": [
        {
          "name": "stdout",
          "output_type": "stream",
          "text": [
            "<class 'float'>\n",
            "<class 'int'>\n",
            "<class 'int'>\n",
            "1.5\n",
            "1\n",
            "1\n"
          ]
        }
      ],
      "source": [
        "print(type(4/3))\n",
        "print(type(4//2))\n",
        "print(type(int(4/2)))\n",
        "print(3/2)\n",
        "print(3//2)\n",
        "print(4%3)"
      ]
    },
    {
      "cell_type": "markdown",
      "metadata": {
        "id": "Tiy4sK5k2OhU"
      },
      "source": [
        "and be careful with floats, operations are not exact, just like in c++:"
      ]
    },
    {
      "cell_type": "code",
      "execution_count": null,
      "metadata": {
        "id": "zhM3ksKD2OhV",
        "outputId": "27b9c774-d910-4f13-82c1-1e308d1f771a"
      },
      "outputs": [
        {
          "name": "stdout",
          "output_type": "stream",
          "text": [
            "False\n"
          ]
        }
      ],
      "source": [
        "print(0.2+0.1 == 0.3)"
      ]
    },
    {
      "cell_type": "markdown",
      "metadata": {
        "id": "cWFcwoEK2OhV"
      },
      "source": [
        "Attention: exponent is NOT `^` which is bitwise XOR instead. Bitwise operators {&,|,^,<<,>>,~} operate on integer's binary parts directly and you probably don't need them in data science.\n",
        "\n",
        "All the operations have a short version for self assignment. We can use x += y.\n"
      ]
    },
    {
      "cell_type": "markdown",
      "metadata": {
        "id": "q_JDhOp32OhV"
      },
      "source": [
        "Operations on strings work as you would logically expect:"
      ]
    },
    {
      "cell_type": "code",
      "execution_count": null,
      "metadata": {
        "id": "y80kWEg02OhW",
        "outputId": "8ad5e17c-95d6-4e28-8102-9512603c6dbc"
      },
      "outputs": [
        {
          "name": "stdout",
          "output_type": "stream",
          "text": [
            "string1string2\n"
          ]
        }
      ],
      "source": [
        "print('string1'+'string2')"
      ]
    },
    {
      "cell_type": "markdown",
      "metadata": {
        "id": "vNXo8XUR2OhW"
      },
      "source": [
        "You can say that variables in python are \"labels\", while the data is \"boxes\":"
      ]
    },
    {
      "cell_type": "code",
      "execution_count": null,
      "metadata": {
        "id": "jfRefHh82OhX",
        "outputId": "63009d09-9744-44b7-b753-6a78f8650c51"
      },
      "outputs": [
        {
          "name": "stdout",
          "output_type": "stream",
          "text": [
            "True\n"
          ]
        }
      ],
      "source": [
        "aa = 3\n",
        "bb = aa\n",
        "print(aa is bb)"
      ]
    },
    {
      "cell_type": "code",
      "execution_count": null,
      "metadata": {
        "id": "k0i2TuDV2OhY",
        "outputId": "70212f8b-5303-4358-870d-ed71b7682e69"
      },
      "outputs": [
        {
          "name": "stdout",
          "output_type": "stream",
          "text": [
            "3\n"
          ]
        }
      ],
      "source": [
        "aa=56\n",
        "print(bb)\n"
      ]
    },
    {
      "cell_type": "code",
      "execution_count": null,
      "metadata": {
        "id": "8rMDDhQe2OhY",
        "outputId": "d87f5d82-5922-4ec1-b114-de21ab164187"
      },
      "outputs": [
        {
          "name": "stdout",
          "output_type": "stream",
          "text": [
            "56\n",
            "False\n"
          ]
        }
      ],
      "source": [
        "bb=34\n",
        "print(aa)\n",
        "print(aa is bb)"
      ]
    },
    {
      "cell_type": "markdown",
      "metadata": {
        "id": "g9054anC2OhZ"
      },
      "source": [
        "### **Getting HELP**:\n",
        "\n",
        "`help()` command usually tells you everything you need to know about the object\n",
        "you can also use NAME? to get information about the variables\n",
        "if you need to know which fucntions are available, you can use tab after a `.` (type `a.TAB`_\n",
        "The `dir()` function returns all properties and methods of the specified object"
      ]
    },
    {
      "cell_type": "code",
      "execution_count": null,
      "metadata": {
        "id": "qhBnTJPo2Oha",
        "outputId": "bfe7fde7-c250-47fc-bb16-09c0f2413dae"
      },
      "outputs": [
        {
          "name": "stdout",
          "output_type": "stream",
          "text": [
            "Help on module string:\n",
            "\n",
            "NAME\n",
            "    string - A collection of string constants.\n",
            "\n",
            "MODULE REFERENCE\n",
            "    https://docs.python.org/3.10/library/string.html\n",
            "    \n",
            "    The following documentation is automatically generated from the Python\n",
            "    source files.  It may be incomplete, incorrect or include features that\n",
            "    are considered implementation detail and may vary between Python\n",
            "    implementations.  When in doubt, consult the module reference at the\n",
            "    location listed above.\n",
            "\n",
            "DESCRIPTION\n",
            "    Public module variables:\n",
            "    \n",
            "    whitespace -- a string containing all ASCII whitespace\n",
            "    ascii_lowercase -- a string containing all ASCII lowercase letters\n",
            "    ascii_uppercase -- a string containing all ASCII uppercase letters\n",
            "    ascii_letters -- a string containing all ASCII letters\n",
            "    digits -- a string containing all ASCII decimal digits\n",
            "    hexdigits -- a string containing all ASCII hexadecimal digits\n",
            "    octdigits -- a string containing all ASCII octal digits\n",
            "    punctuation -- a string containing all ASCII punctuation characters\n",
            "    printable -- a string containing all ASCII characters considered printable\n",
            "\n",
            "CLASSES\n",
            "    builtins.object\n",
            "        Formatter\n",
            "        Template\n",
            "    \n",
            "    class Formatter(builtins.object)\n",
            "     |  Methods defined here:\n",
            "     |  \n",
            "     |  check_unused_args(self, used_args, args, kwargs)\n",
            "     |  \n",
            "     |  convert_field(self, value, conversion)\n",
            "     |  \n",
            "     |  format(self, format_string, /, *args, **kwargs)\n",
            "     |  \n",
            "     |  format_field(self, value, format_spec)\n",
            "     |  \n",
            "     |  get_field(self, field_name, args, kwargs)\n",
            "     |      # given a field_name, find the object it references.\n",
            "     |      #  field_name:   the field being looked up, e.g. \"0.name\"\n",
            "     |      #                 or \"lookup[3]\"\n",
            "     |      #  used_args:    a set of which args have been used\n",
            "     |      #  args, kwargs: as passed in to vformat\n",
            "     |  \n",
            "     |  get_value(self, key, args, kwargs)\n",
            "     |  \n",
            "     |  parse(self, format_string)\n",
            "     |      # returns an iterable that contains tuples of the form:\n",
            "     |      # (literal_text, field_name, format_spec, conversion)\n",
            "     |      # literal_text can be zero length\n",
            "     |      # field_name can be None, in which case there's no\n",
            "     |      #  object to format and output\n",
            "     |      # if field_name is not None, it is looked up, formatted\n",
            "     |      #  with format_spec and conversion and then used\n",
            "     |  \n",
            "     |  vformat(self, format_string, args, kwargs)\n",
            "     |  \n",
            "     |  ----------------------------------------------------------------------\n",
            "     |  Data descriptors defined here:\n",
            "     |  \n",
            "     |  __dict__\n",
            "     |      dictionary for instance variables (if defined)\n",
            "     |  \n",
            "     |  __weakref__\n",
            "     |      list of weak references to the object (if defined)\n",
            "    \n",
            "    class Template(builtins.object)\n",
            "     |  Template(template)\n",
            "     |  \n",
            "     |  A string class for supporting $-substitutions.\n",
            "     |  \n",
            "     |  Methods defined here:\n",
            "     |  \n",
            "     |  __init__(self, template)\n",
            "     |      Initialize self.  See help(type(self)) for accurate signature.\n",
            "     |  \n",
            "     |  safe_substitute(self, mapping={}, /, **kws)\n",
            "     |  \n",
            "     |  substitute(self, mapping={}, /, **kws)\n",
            "     |  \n",
            "     |  ----------------------------------------------------------------------\n",
            "     |  Class methods defined here:\n",
            "     |  \n",
            "     |  __init_subclass__() from builtins.type\n",
            "     |      This method is called when a class is subclassed.\n",
            "     |      \n",
            "     |      The default implementation does nothing. It may be\n",
            "     |      overridden to extend subclasses.\n",
            "     |  \n",
            "     |  ----------------------------------------------------------------------\n",
            "     |  Data descriptors defined here:\n",
            "     |  \n",
            "     |  __dict__\n",
            "     |      dictionary for instance variables (if defined)\n",
            "     |  \n",
            "     |  __weakref__\n",
            "     |      list of weak references to the object (if defined)\n",
            "     |  \n",
            "     |  ----------------------------------------------------------------------\n",
            "     |  Data and other attributes defined here:\n",
            "     |  \n",
            "     |  braceidpattern = None\n",
            "     |  \n",
            "     |  delimiter = '$'\n",
            "     |  \n",
            "     |  flags = re.IGNORECASE\n",
            "     |  \n",
            "     |  idpattern = '(?a:[_a-z][_a-z0-9]*)'\n",
            "     |  \n",
            "     |  pattern = re.compile('\\n            \\\\$(?:\\n              ...identifie...\n",
            "\n",
            "FUNCTIONS\n",
            "    capwords(s, sep=None)\n",
            "        capwords(s [,sep]) -> string\n",
            "        \n",
            "        Split the argument into words using split, capitalize each\n",
            "        word using capitalize, and join the capitalized words using\n",
            "        join.  If the optional second argument sep is absent or None,\n",
            "        runs of whitespace characters are replaced by a single space\n",
            "        and leading and trailing whitespace are removed, otherwise\n",
            "        sep is used to split and join the words.\n",
            "\n",
            "DATA\n",
            "    __all__ = ['ascii_letters', 'ascii_lowercase', 'ascii_uppercase', 'cap...\n",
            "    ascii_letters = 'abcdefghijklmnopqrstuvwxyzABCDEFGHIJKLMNOPQRSTUVWXYZ'\n",
            "    ascii_lowercase = 'abcdefghijklmnopqrstuvwxyz'\n",
            "    ascii_uppercase = 'ABCDEFGHIJKLMNOPQRSTUVWXYZ'\n",
            "    digits = '0123456789'\n",
            "    hexdigits = '0123456789abcdefABCDEF'\n",
            "    octdigits = '01234567'\n",
            "    printable = '0123456789abcdefghijklmnopqrstuvwxyzABCDEFGHIJKLMNOPQRSTU...\n",
            "    punctuation = '!\"#$%&\\'()*+,-./:;<=>?@[\\\\]^_`{|}~'\n",
            "    whitespace = ' \\t\\n\\r\\x0b\\x0c'\n",
            "\n",
            "FILE\n",
            "    /home/Arrow/miniconda3/envs/my_env2/lib/python3.10/string.py\n",
            "\n",
            "\n"
          ]
        }
      ],
      "source": [
        "help('string')"
      ]
    },
    {
      "cell_type": "code",
      "execution_count": null,
      "metadata": {
        "id": "q8UgzFiB2Oha",
        "outputId": "cbde8e55-4e73-414a-c3ad-e3c6ba282950"
      },
      "outputs": [
        {
          "data": {
            "text/plain": [
              "\u001b[0;31mType:\u001b[0m        int\n",
              "\u001b[0;31mString form:\u001b[0m 343\n",
              "\u001b[0;31mDocstring:\u001b[0m  \n",
              "int([x]) -> integer\n",
              "int(x, base=10) -> integer\n",
              "\n",
              "Convert a number or string to an integer, or return 0 if no arguments\n",
              "are given.  If x is a number, return x.__int__().  For floating point\n",
              "numbers, this truncates towards zero.\n",
              "\n",
              "If x is not a number or if base is given, then x must be a string,\n",
              "bytes, or bytearray instance representing an integer literal in the\n",
              "given base.  The literal can be preceded by '+' or '-' and be surrounded\n",
              "by whitespace.  The base defaults to 10.  Valid bases are 0 and 2-36.\n",
              "Base 0 means to interpret the base from the string as an integer literal.\n",
              ">>> int('0b100', base=0)\n",
              "4"
            ]
          },
          "metadata": {},
          "output_type": "display_data"
        }
      ],
      "source": [
        "a?"
      ]
    },
    {
      "cell_type": "code",
      "execution_count": null,
      "metadata": {
        "id": "y6Hcs6hI2Ohb",
        "outputId": "1f8b1bfc-f63c-499d-9c5a-354610915ea1"
      },
      "outputs": [
        {
          "data": {
            "text/plain": [
              "['__abs__',\n",
              " '__add__',\n",
              " '__and__',\n",
              " '__bool__',\n",
              " '__ceil__',\n",
              " '__class__',\n",
              " '__delattr__',\n",
              " '__dir__',\n",
              " '__divmod__',\n",
              " '__doc__',\n",
              " '__eq__',\n",
              " '__float__',\n",
              " '__floor__',\n",
              " '__floordiv__',\n",
              " '__format__',\n",
              " '__ge__',\n",
              " '__getattribute__',\n",
              " '__getnewargs__',\n",
              " '__gt__',\n",
              " '__hash__',\n",
              " '__index__',\n",
              " '__init__',\n",
              " '__init_subclass__',\n",
              " '__int__',\n",
              " '__invert__',\n",
              " '__le__',\n",
              " '__lshift__',\n",
              " '__lt__',\n",
              " '__mod__',\n",
              " '__mul__',\n",
              " '__ne__',\n",
              " '__neg__',\n",
              " '__new__',\n",
              " '__or__',\n",
              " '__pos__',\n",
              " '__pow__',\n",
              " '__radd__',\n",
              " '__rand__',\n",
              " '__rdivmod__',\n",
              " '__reduce__',\n",
              " '__reduce_ex__',\n",
              " '__repr__',\n",
              " '__rfloordiv__',\n",
              " '__rlshift__',\n",
              " '__rmod__',\n",
              " '__rmul__',\n",
              " '__ror__',\n",
              " '__round__',\n",
              " '__rpow__',\n",
              " '__rrshift__',\n",
              " '__rshift__',\n",
              " '__rsub__',\n",
              " '__rtruediv__',\n",
              " '__rxor__',\n",
              " '__setattr__',\n",
              " '__sizeof__',\n",
              " '__str__',\n",
              " '__sub__',\n",
              " '__subclasshook__',\n",
              " '__truediv__',\n",
              " '__trunc__',\n",
              " '__xor__',\n",
              " 'as_integer_ratio',\n",
              " 'bit_count',\n",
              " 'bit_length',\n",
              " 'conjugate',\n",
              " 'denominator',\n",
              " 'from_bytes',\n",
              " 'imag',\n",
              " 'numerator',\n",
              " 'real',\n",
              " 'to_bytes']"
            ]
          },
          "execution_count": 14,
          "metadata": {},
          "output_type": "execute_result"
        }
      ],
      "source": [
        "dir(a)"
      ]
    },
    {
      "cell_type": "code",
      "execution_count": null,
      "metadata": {
        "id": "Osg6Kyhw2Ohb",
        "outputId": "1888bc5d-e545-4d9b-ad41-73a07d753eb6"
      },
      "outputs": [
        {
          "name": "stdout",
          "output_type": "stream",
          "text": [
            "Hi\n",
            "Hi\n",
            "HI\n",
            "hi\n",
            "hY\n"
          ]
        }
      ],
      "source": [
        "a=\"hi\"\n",
        "\n",
        "b=a.capitalize()\n",
        "print(a.capitalize())\n",
        "print(b)\n",
        "print(a.upper())\n",
        "print(a)\n",
        "#help(a.replace)\n",
        "b=a.replace(\"i\",\"Y\")\n",
        "print(b)"
      ]
    },
    {
      "cell_type": "code",
      "execution_count": null,
      "metadata": {
        "id": "YNyN8q_b2Ohc",
        "outputId": "4a04145a-a74a-4807-ced1-93f32aa3445d"
      },
      "outputs": [
        {
          "data": {
            "text/plain": [
              "['__add__',\n",
              " '__class__',\n",
              " '__contains__',\n",
              " '__delattr__',\n",
              " '__dir__',\n",
              " '__doc__',\n",
              " '__eq__',\n",
              " '__format__',\n",
              " '__ge__',\n",
              " '__getattribute__',\n",
              " '__getitem__',\n",
              " '__getnewargs__',\n",
              " '__gt__',\n",
              " '__hash__',\n",
              " '__init__',\n",
              " '__init_subclass__',\n",
              " '__iter__',\n",
              " '__le__',\n",
              " '__len__',\n",
              " '__lt__',\n",
              " '__mod__',\n",
              " '__mul__',\n",
              " '__ne__',\n",
              " '__new__',\n",
              " '__reduce__',\n",
              " '__reduce_ex__',\n",
              " '__repr__',\n",
              " '__rmod__',\n",
              " '__rmul__',\n",
              " '__setattr__',\n",
              " '__sizeof__',\n",
              " '__str__',\n",
              " '__subclasshook__',\n",
              " 'capitalize',\n",
              " 'casefold',\n",
              " 'center',\n",
              " 'count',\n",
              " 'encode',\n",
              " 'endswith',\n",
              " 'expandtabs',\n",
              " 'find',\n",
              " 'format',\n",
              " 'format_map',\n",
              " 'index',\n",
              " 'isalnum',\n",
              " 'isalpha',\n",
              " 'isascii',\n",
              " 'isdecimal',\n",
              " 'isdigit',\n",
              " 'isidentifier',\n",
              " 'islower',\n",
              " 'isnumeric',\n",
              " 'isprintable',\n",
              " 'isspace',\n",
              " 'istitle',\n",
              " 'isupper',\n",
              " 'join',\n",
              " 'ljust',\n",
              " 'lower',\n",
              " 'lstrip',\n",
              " 'maketrans',\n",
              " 'partition',\n",
              " 'removeprefix',\n",
              " 'removesuffix',\n",
              " 'replace',\n",
              " 'rfind',\n",
              " 'rindex',\n",
              " 'rjust',\n",
              " 'rpartition',\n",
              " 'rsplit',\n",
              " 'rstrip',\n",
              " 'split',\n",
              " 'splitlines',\n",
              " 'startswith',\n",
              " 'strip',\n",
              " 'swapcase',\n",
              " 'title',\n",
              " 'translate',\n",
              " 'upper',\n",
              " 'zfill']"
            ]
          },
          "execution_count": 16,
          "metadata": {},
          "output_type": "execute_result"
        }
      ],
      "source": [
        "dir('string')"
      ]
    },
    {
      "cell_type": "markdown",
      "metadata": {
        "id": "fYsPOiiL2Ohd"
      },
      "source": [
        "### **Control Flow: if**\n",
        "\n",
        "Now we come to the two basic building blocks of all code: commands that perform a test and commands that perform a loop.\n",
        "\n",
        "First the control structure for performing a test is `if`. The format is:\n",
        "\n",
        "`if` 'condition' `:`\n",
        "\n",
        "`*obligatory spaces*` 'commands'\n",
        "\n",
        "`elif` 'condition' `:`\n",
        "\n",
        "`*obligatory spaces*` 'commands'\n",
        "\n",
        "`else` 'condition' `:`\n",
        "\n",
        "`*obligatory spaces*` 'commands'\n"
      ]
    },
    {
      "cell_type": "code",
      "execution_count": null,
      "metadata": {
        "id": "RvjEjWFR2Ohd",
        "outputId": "225be839-8165-4719-b2b3-aace5f502f61"
      },
      "outputs": [
        {
          "name": "stdout",
          "output_type": "stream",
          "text": [
            "x is greater then zero\n"
          ]
        }
      ],
      "source": [
        "x = 1\n",
        "\n",
        "if x==0:\n",
        "    print(\"x is zero %s, %f\" %(a, 2))\n",
        "elif x>0:\n",
        "    print('x is greater then zero')\n",
        "elif x<0:\n",
        "    print('x is smaller than zero')\n",
        "else:\n",
        "    print('something strange happened')"
      ]
    },
    {
      "cell_type": "markdown",
      "metadata": {
        "id": "15OraXMf2Ohd"
      },
      "source": [
        "Conditions can be `==`, `!=`, `<`, `>`, `<=`, `>=`, `and`, `not`, `or`. You can use multiple and you can chain comparisons (like when writing on paper):"
      ]
    },
    {
      "cell_type": "code",
      "execution_count": null,
      "metadata": {
        "id": "edUiT-_q2Ohe",
        "outputId": "7ed0c848-360c-4801-8b9b-f275057626c5"
      },
      "outputs": [
        {
          "name": "stdout",
          "output_type": "stream",
          "text": [
            "a is in range\n",
            "a is in range\n"
          ]
        }
      ],
      "source": [
        "var = 7\n",
        "# check if a in range [5,9)\n",
        "\n",
        "if 5 <= var and var < 9:\n",
        "    print(\"a is in range\")\n",
        "\n",
        "if 5 <= var < 9:\n",
        "    print(\"a is in range\")"
      ]
    },
    {
      "cell_type": "markdown",
      "metadata": {
        "id": "FfmGFYqP2Ohe"
      },
      "source": [
        "### **Control flow: loops**\n",
        "\n",
        "```\n",
        "for VAR in SET_OF_VALUES:\n",
        "    do something\n",
        "    if CONDITION:\n",
        "        continue\n",
        "    <something_that_runs_if_condition_IS_NOT_True>\n",
        "while <true_condition>:\n",
        "    do something\n",
        "    if ANOTHER_CONDITION:\n",
        "        break\n",
        "```"
      ]
    },
    {
      "cell_type": "code",
      "execution_count": null,
      "metadata": {
        "id": "wk-QRLBz2Ohe",
        "outputId": "792da5fe-83cf-44e2-c1dd-7dd232842edd"
      },
      "outputs": [
        {
          "name": "stdout",
          "output_type": "stream",
          "text": [
            "0\n",
            "1\n",
            "2\n"
          ]
        }
      ],
      "source": [
        "for i in range(3):\n",
        "    print(i)"
      ]
    },
    {
      "cell_type": "code",
      "execution_count": null,
      "metadata": {
        "id": "yd_yJ-HK2Ohf",
        "outputId": "d2f1fc9c-0931-4ceb-84bf-cdf0896c2a53"
      },
      "outputs": [
        {
          "name": "stdout",
          "output_type": "stream",
          "text": [
            "3\n",
            "4\n",
            "5\n",
            "11\n"
          ]
        }
      ],
      "source": [
        "for i in 3, 4, 5, 11:\n",
        "    print(i)"
      ]
    },
    {
      "cell_type": "code",
      "execution_count": null,
      "metadata": {
        "id": "I_w2i6u42Ohf",
        "outputId": "32d0adc1-198c-456f-b933-9285cf073bc3"
      },
      "outputs": [
        {
          "name": "stdout",
          "output_type": "stream",
          "text": [
            "0\n",
            "3\n",
            "6\n",
            "9\n",
            "12\n",
            "15\n"
          ]
        }
      ],
      "source": [
        "for i in range(0, 17, 3):\n",
        "    print(i)"
      ]
    },
    {
      "cell_type": "code",
      "execution_count": null,
      "metadata": {
        "id": "mNmLYc0s2Ohf",
        "outputId": "9eb86d16-4e56-416b-cfa2-6e227d421762"
      },
      "outputs": [
        {
          "name": "stdout",
          "output_type": "stream",
          "text": [
            "0\n",
            "3\n",
            "6\n",
            "9\n"
          ]
        }
      ],
      "source": [
        "i = 0\n",
        "while i < 10:\n",
        "    print(i)\n",
        "    i +=3\n",
        "   # if i>3:\n",
        "    #    break"
      ]
    },
    {
      "cell_type": "markdown",
      "metadata": {
        "id": "sSF2GcUj2Ohg"
      },
      "source": [
        "### **Basic containers: lists, sets, tuples**"
      ]
    },
    {
      "cell_type": "code",
      "execution_count": null,
      "metadata": {
        "id": "yiCsKN5Z2Ohh",
        "outputId": "f9c8cce2-0a92-491c-a816-b8f99660dd9e"
      },
      "outputs": [
        {
          "name": "stdout",
          "output_type": "stream",
          "text": [
            "<class 'list'>\n",
            "<class 'tuple'>\n",
            "{1, 2, 3}\n",
            "<class 'set'>\n"
          ]
        }
      ],
      "source": [
        "l=[1,2,'meow']\n",
        "print(type(l))\n",
        "t=(1,2,3)\n",
        "print(type(t))\n",
        "s={1,2,2,3,1,3}\n",
        "print(s)\n",
        "print(type(s))"
      ]
    },
    {
      "cell_type": "code",
      "execution_count": null,
      "metadata": {
        "id": "Buxsjuob2Ohi",
        "outputId": "55bd4254-6ac6-443d-c20c-67ca1aec3681"
      },
      "outputs": [
        {
          "name": "stdout",
          "output_type": "stream",
          "text": [
            "1\n",
            "2\n",
            "meow\n"
          ]
        }
      ],
      "source": [
        "for i in l:\n",
        "    print(i)"
      ]
    },
    {
      "cell_type": "code",
      "execution_count": null,
      "metadata": {
        "id": "8low_J0I2Ohi",
        "outputId": "d6a5709a-a1a4-4a0a-ad04-6794bf06af08"
      },
      "outputs": [
        {
          "name": "stdout",
          "output_type": "stream",
          "text": [
            "1\n",
            "2\n",
            "3\n"
          ]
        }
      ],
      "source": [
        "for i in t:\n",
        "    print(i)"
      ]
    },
    {
      "cell_type": "code",
      "execution_count": null,
      "metadata": {
        "id": "CFpXOJaU2Ohj"
      },
      "outputs": [],
      "source": [
        "for i in s:\n",
        "    print(i)"
      ]
    },
    {
      "cell_type": "markdown",
      "metadata": {
        "id": "_QjDbLHc2Ohj"
      },
      "source": [
        "#### **Lists**:\n",
        "\n",
        "Lists are mutable (can change), resizable, can store objects of different types"
      ]
    },
    {
      "cell_type": "code",
      "execution_count": null,
      "metadata": {
        "id": "i6bbf_FZ2Ohj",
        "outputId": "80ace41b-f501-4e93-d5c1-b83c79daff14"
      },
      "outputs": [
        {
          "name": "stdout",
          "output_type": "stream",
          "text": [
            "[]\n"
          ]
        }
      ],
      "source": [
        "#simplest list creation\n",
        "l=[]\n",
        "print(l)"
      ]
    },
    {
      "cell_type": "code",
      "execution_count": null,
      "metadata": {
        "id": "U9fHto1m2Ohk",
        "outputId": "8d651240-b0be-43ee-9ab6-41f36582b178"
      },
      "outputs": [
        {
          "name": "stdout",
          "output_type": "stream",
          "text": [
            "[]\n"
          ]
        }
      ],
      "source": [
        "#otherwise, you can use\n",
        "l=list()\n",
        "print(l)"
      ]
    },
    {
      "cell_type": "code",
      "execution_count": null,
      "metadata": {
        "id": "je19M8hQ2Ohl",
        "outputId": "057399d9-6a5c-4164-a2ef-6daec82598c8"
      },
      "outputs": [
        {
          "name": "stdout",
          "output_type": "stream",
          "text": [
            "[2, 'hi', 4.9]\n"
          ]
        }
      ],
      "source": [
        "#you can add elemets like this:\n",
        "l.append(2)\n",
        "l.append(\"hi\")\n",
        "l.append(4.9)\n",
        "print(l)"
      ]
    },
    {
      "cell_type": "code",
      "execution_count": null,
      "metadata": {
        "id": "fsJtqDEL2Ohl",
        "outputId": "a457c9a1-696f-4bc2-b94e-26ea8f5084a1"
      },
      "outputs": [
        {
          "name": "stdout",
          "output_type": "stream",
          "text": [
            "hi\n"
          ]
        }
      ],
      "source": [
        "#you can use negative numbers to count from the end:\n",
        "print(l[-2])"
      ]
    },
    {
      "cell_type": "code",
      "execution_count": null,
      "metadata": {
        "id": "cMMMgG_32Ohm",
        "outputId": "d5af6d8b-f4c3-463a-af79-f542a283c32b"
      },
      "outputs": [
        {
          "data": {
            "text/plain": [
              "['__add__',\n",
              " '__class__',\n",
              " '__class_getitem__',\n",
              " '__contains__',\n",
              " '__delattr__',\n",
              " '__delitem__',\n",
              " '__dir__',\n",
              " '__doc__',\n",
              " '__eq__',\n",
              " '__format__',\n",
              " '__ge__',\n",
              " '__getattribute__',\n",
              " '__getitem__',\n",
              " '__gt__',\n",
              " '__hash__',\n",
              " '__iadd__',\n",
              " '__imul__',\n",
              " '__init__',\n",
              " '__init_subclass__',\n",
              " '__iter__',\n",
              " '__le__',\n",
              " '__len__',\n",
              " '__lt__',\n",
              " '__mul__',\n",
              " '__ne__',\n",
              " '__new__',\n",
              " '__reduce__',\n",
              " '__reduce_ex__',\n",
              " '__repr__',\n",
              " '__reversed__',\n",
              " '__rmul__',\n",
              " '__setattr__',\n",
              " '__setitem__',\n",
              " '__sizeof__',\n",
              " '__str__',\n",
              " '__subclasshook__',\n",
              " 'append',\n",
              " 'clear',\n",
              " 'copy',\n",
              " 'count',\n",
              " 'extend',\n",
              " 'index',\n",
              " 'insert',\n",
              " 'pop',\n",
              " 'remove',\n",
              " 'reverse',\n",
              " 'sort']"
            ]
          },
          "execution_count": 33,
          "metadata": {},
          "output_type": "execute_result"
        }
      ],
      "source": [
        "dir(l)"
      ]
    },
    {
      "cell_type": "code",
      "execution_count": null,
      "metadata": {
        "id": "Prm7OGc-2Ohm",
        "outputId": "11ea2fb1-50e7-42c8-8757-69fbee3d357f"
      },
      "outputs": [
        {
          "name": "stdout",
          "output_type": "stream",
          "text": [
            "[0, 1, 2, 3, 4, 5, 6, 7, 8, 9, 10, 11, 12, 13, 14, 15, 16, 17, 18, 19]\n",
            "[2, 4, 6]\n",
            "[0, 1, 2, 3, 4, 5, 6]\n",
            "[0, 5, 10, 15]\n",
            "[19, 18, 17, 16, 15, 14, 13, 12, 11, 10, 9, 8, 7, 6, 5, 4, 3, 2, 1, 0]\n"
          ]
        }
      ],
      "source": [
        "#you can slice the list\n",
        "lr = list(range(20))\n",
        "print(lr)\n",
        "print(lr[2:7:2])  # general case: print elements from 2 to 7 with step 2\n",
        "print(lr[:7]) #print the first 7 elements\n",
        "print(lr[::5])  # print the whole list with step 5\n",
        "print(lr[::-1]) #print reverse"
      ]
    },
    {
      "cell_type": "code",
      "execution_count": null,
      "metadata": {
        "id": "L0U02PPq2Ohn",
        "outputId": "2daba352-d6b0-42b5-887b-2ba3700bb976"
      },
      "outputs": [
        {
          "data": {
            "text/plain": [
              "20"
            ]
          },
          "execution_count": 35,
          "metadata": {},
          "output_type": "execute_result"
        }
      ],
      "source": [
        "#useful function to get the length :\n",
        "len(lr)"
      ]
    },
    {
      "cell_type": "code",
      "execution_count": null,
      "metadata": {
        "id": "0p7J086r2Ohn",
        "outputId": "fcb45cad-af33-40d3-d060-ecd5aa5c460b"
      },
      "outputs": [
        {
          "name": "stdout",
          "output_type": "stream",
          "text": [
            "[2, 'hi', 4.9]\n",
            "[2, 'hi', 4.9, 2, 'hi', 4.9, 2, 'hi', 4.9]\n",
            "[[1, 1, 1], [1, 1, 1], [1, 1, 1]]\n",
            "[[1, 89989, 1], [1, 89989, 1], [1, 89989, 1]]\n"
          ]
        }
      ],
      "source": [
        "#careful with this * if you use lists of lists\n",
        "print(l)\n",
        "print(l * 3)\n",
        "ll=[[1]*3]*3\n",
        "print(ll)\n",
        "ll[1][1]=89989\n",
        "print(ll)\n",
        "#we can see what happens at https://pythontutor.com/visualize.html#mode=edit"
      ]
    },
    {
      "cell_type": "markdown",
      "metadata": {
        "id": "ixN2YRzA2Ohn"
      },
      "source": [
        "### **List Comprehensions**\n",
        "\n",
        "You can create a new list by using \"list comprehensions\". This way allows you creating a list from a rule rather than listing the objects directly.\n",
        "\n",
        "The format is the following:\n",
        "\n",
        "`[`'object to go in list' `for` 'input' `in` 'list/generator' `if` 'condition'  `]`\n",
        "\n",
        "Here are some examples to show you what is looks like:"
      ]
    },
    {
      "cell_type": "code",
      "execution_count": null,
      "metadata": {
        "id": "dlwO4Pjj2Oho"
      },
      "outputs": [],
      "source": [
        "print( [x**2 for x in {7,2,1,3,4,5,6}]                            ) # Squares\n",
        "print( [x for x in range(10) if x%2==0]                     ) # Evens\n",
        "print( [x if not x%2 else -x for x in range(10)]            ) # Alternate sign for evens and odds\n",
        "print( [x**3 for x in [1,2,3,4]]                            ) # Cubes from a list\n",
        "print( [(x,y) for x in range(5) for y in range(5) if x+y<4] ) # Create pairs with sum<4\n",
        "print( [x**2 for x in [x**2 for x in range(10)]]            ) # 4th power (don't do this...)"
      ]
    },
    {
      "cell_type": "markdown",
      "metadata": {
        "id": "HJQXFyBy2Oho"
      },
      "source": []
    },
    {
      "cell_type": "markdown",
      "metadata": {
        "id": "vrAQ6kI82Ohp"
      },
      "source": [
        "Now we can list the types of our variables easier:"
      ]
    },
    {
      "cell_type": "code",
      "execution_count": null,
      "metadata": {
        "id": "Famwo3Mf2Ohp"
      },
      "outputs": [],
      "source": [
        "list_of_things=[a,b,c,d,e,f,g]"
      ]
    },
    {
      "cell_type": "code",
      "execution_count": null,
      "metadata": {
        "id": "xiz1HYJK2Ohp"
      },
      "outputs": [],
      "source": [
        "ls = [type(item) for item in list_of_things]"
      ]
    },
    {
      "cell_type": "code",
      "execution_count": null,
      "metadata": {
        "id": "9zoRV5Nc2Ohp",
        "outputId": "56a83533-9b41-4637-c7b4-fafb2b074479"
      },
      "outputs": [
        {
          "name": "stdout",
          "output_type": "stream",
          "text": [
            "[<class 'str'>, <class 'str'>, <class 'float'>, <class 'complex'>, <class 'bool'>, <class 'int'>, <class 'NoneType'>]\n"
          ]
        }
      ],
      "source": [
        "print(ls)"
      ]
    },
    {
      "cell_type": "code",
      "execution_count": null,
      "metadata": {
        "id": "GCk79N6v2Ohq",
        "outputId": "dde2e7c4-cec8-474c-db1f-c192bc01fb90"
      },
      "outputs": [
        {
          "name": "stdout",
          "output_type": "stream",
          "text": [
            "l after l.sort() [-9, 2, 3, 99]\n",
            "sorted m [-9, 0, 4, 212]\n",
            "m after sorted [4, -9, 0, 212]\n"
          ]
        }
      ],
      "source": [
        "#you can sort the lists\n",
        "l=[2,3,99,-9]\n",
        "l.sort()\n",
        "print(\"l after l.sort()\", l)\n",
        "m=[4,-9,0,212]\n",
        "print(\"sorted m\", sorted(m))\n",
        "print(\"m after sorted\", m)"
      ]
    },
    {
      "cell_type": "code",
      "execution_count": null,
      "metadata": {
        "id": "YJolOJiR2Ohq",
        "outputId": "937f1577-f3e6-4bcd-d3de-c8eb20d99ed7"
      },
      "outputs": [
        {
          "name": "stdout",
          "output_type": "stream",
          "text": [
            "[1, 3, 4, 5]\n",
            "[1, 3, 5]\n",
            "1\n",
            "[3, 5]\n"
          ]
        }
      ],
      "source": [
        "#deleting items\n",
        "l=[1,2,3,4,5]\n",
        "del l[1] #delete by index\n",
        "print(l)\n",
        "l.remove(4) #4 is a value, not an index\n",
        "print(l)\n",
        "el=l.pop(0)\n",
        "print(el)\n",
        "print(l)"
      ]
    },
    {
      "cell_type": "markdown",
      "metadata": {
        "id": "8CpaWXwG2Ohr"
      },
      "source": [
        "### **Sets** (optimized for math. operations on sets like union, intersect)\n",
        "\n",
        "we don't have indexing on sets, i.e. `s[0]` will give an error"
      ]
    },
    {
      "cell_type": "code",
      "execution_count": null,
      "metadata": {
        "id": "53nKGNiS2Ohs",
        "outputId": "190ca96e-245a-4ab2-beab-100a3d09515e"
      },
      "outputs": [
        {
          "name": "stdout",
          "output_type": "stream",
          "text": [
            "<class 'set'>\n"
          ]
        }
      ],
      "source": [
        "s=set() #can't use {}, as it's a dictionary by default\n",
        "print(type(s))"
      ]
    },
    {
      "cell_type": "code",
      "execution_count": null,
      "metadata": {
        "id": "Tel-1yci2Ohs",
        "outputId": "7f3ada92-48a2-469a-8ffd-97c414351b0e"
      },
      "outputs": [
        {
          "name": "stdout",
          "output_type": "stream",
          "text": [
            "{0, 2, 4, 6, 8, 10}\n"
          ]
        }
      ],
      "source": [
        "evn = {0, 4, 2, 6,6, 8, 10,2}\n",
        "print(evn)\n",
        "#as you see it becomes ordered and avoids repetitions"
      ]
    },
    {
      "cell_type": "code",
      "execution_count": null,
      "metadata": {
        "scrolled": true,
        "id": "WEEQl_lx2Oht",
        "outputId": "d68a1a06-d0c7-4b2e-c856-cfa68423f1cc"
      },
      "outputs": [
        {
          "data": {
            "text/plain": [
              "True"
            ]
          },
          "execution_count": 44,
          "metadata": {},
          "output_type": "execute_result"
        }
      ],
      "source": [
        "#you can check if something is here:\n",
        "4 in evn"
      ]
    },
    {
      "cell_type": "code",
      "execution_count": null,
      "metadata": {
        "id": "jfwbDu5r2Oht",
        "outputId": "71e87b64-bc09-463d-a43f-5a0b6146ceb6"
      },
      "outputs": [
        {
          "name": "stdout",
          "output_type": "stream",
          "text": [
            "{0, 1, 2, 3, 4, 5, 6, 7, 8, 9, 10}\n",
            "{0, 1, 2, 3, 4, 5, 6, 7, 8, 9, 10}\n"
          ]
        }
      ],
      "source": [
        "#union\n",
        "oddn={1,3,5,7,9}\n",
        "alln= oddn.union(evn)\n",
        "print(alln)\n",
        "alln = oddn | evn\n",
        "print(alln)"
      ]
    },
    {
      "cell_type": "code",
      "execution_count": null,
      "metadata": {
        "id": "IOmNck-D2Ohu",
        "outputId": "771fd7eb-2a62-4dae-b686-27e57f317d7c"
      },
      "outputs": [
        {
          "name": "stdout",
          "output_type": "stream",
          "text": [
            "set()\n",
            "set()\n"
          ]
        }
      ],
      "source": [
        "#intersect\n",
        "empty = oddn.intersection(evn)\n",
        "print(empty)\n",
        "empty = oddn & evn\n",
        "print(empty)"
      ]
    },
    {
      "cell_type": "code",
      "execution_count": null,
      "metadata": {
        "id": "oUKGA39R2Ohu",
        "outputId": "edc36c90-ced1-4b5c-857f-18fc79a8d3f0"
      },
      "outputs": [
        {
          "name": "stdout",
          "output_type": "stream",
          "text": [
            "set1 - set2 --> {2, 4, 5, 7}\n",
            "set2 - set1 --> set()\n"
          ]
        }
      ],
      "source": [
        "#difference\n",
        "set1 = {1, 2, 3, 4, 5, 7}\n",
        "set2 = {1, 3}\n",
        "print(\"set1 - set2 -->\", set1 - set2)\n",
        "print(\"set2 - set1 -->\", set2 - set1)"
      ]
    },
    {
      "cell_type": "code",
      "execution_count": null,
      "metadata": {
        "id": "47b89pGM2Ohv",
        "outputId": "8da2fd97-6d09-49db-f726-7c84ceaa0773"
      },
      "outputs": [
        {
          "name": "stdout",
          "output_type": "stream",
          "text": [
            "1\n",
            "3\n"
          ]
        }
      ],
      "source": [
        "#you can iterate\n",
        "for i in set2:\n",
        "    print(i)"
      ]
    },
    {
      "cell_type": "markdown",
      "metadata": {
        "id": "v4wNiuhg2Ohv"
      },
      "source": [
        "### **Tuples**\n",
        "\n",
        "they are immutable, you cannot change them once created (but they are faster than lists because of that)"
      ]
    },
    {
      "cell_type": "code",
      "execution_count": null,
      "metadata": {
        "id": "JzrGOMwg2Ohv",
        "outputId": "d552bb92-816c-478b-d2fe-958564dbe80a"
      },
      "outputs": [
        {
          "name": "stdout",
          "output_type": "stream",
          "text": [
            "(4, 6, 8)\n",
            "('s', 't', 'r', 'i', 'n', 'g')\n"
          ]
        }
      ],
      "source": [
        "t = ()  # or t = tuple(), this is empty tuple\n",
        "t = tuple(range(10)) #create tuple from a list\n",
        "print(t[4::2]) #can use indexing and and slicing\n",
        "t = tuple(\"string\") #can create from the string\n",
        "print(t)"
      ]
    },
    {
      "cell_type": "code",
      "execution_count": null,
      "metadata": {
        "id": "q_iRi8CW2Ohw",
        "outputId": "509e4954-3160-4e7e-87d3-1892e9673818"
      },
      "outputs": [
        {
          "ename": "TypeError",
          "evalue": "'tuple' object does not support item assignment",
          "output_type": "error",
          "traceback": [
            "\u001b[0;31m---------------------------------------------------------------------------\u001b[0m",
            "\u001b[0;31mTypeError\u001b[0m                                 Traceback (most recent call last)",
            "Cell \u001b[0;32mIn[50], line 2\u001b[0m\n\u001b[1;32m      1\u001b[0m \u001b[38;5;66;03m#we can't change them\u001b[39;00m\n\u001b[0;32m----> 2\u001b[0m t[\u001b[38;5;241m0\u001b[39m]\u001b[38;5;241m=\u001b[39m\u001b[38;5;241m5\u001b[39m\n",
            "\u001b[0;31mTypeError\u001b[0m: 'tuple' object does not support item assignment"
          ]
        }
      ],
      "source": [
        "#we can't change them\n",
        "t[0]=5 #an error"
      ]
    },
    {
      "cell_type": "code",
      "execution_count": null,
      "metadata": {
        "id": "I1WnLD-E2Ohw",
        "outputId": "ffdf4b9c-226b-4801-e4a0-53fbf616dd21"
      },
      "outputs": [
        {
          "name": "stdout",
          "output_type": "stream",
          "text": [
            "('meow', 'baw', 77)\n",
            "<class 'tuple'>\n"
          ]
        }
      ],
      "source": [
        "#we can \"pack\" tuples\n",
        "a = \"meow\"\n",
        "b = \"baw\"\n",
        "c=77\n",
        "t = a, b,c\n",
        "print(t)\n",
        "print(type(t))"
      ]
    },
    {
      "cell_type": "code",
      "execution_count": null,
      "metadata": {
        "id": "oCEmfPcN2Ohw",
        "outputId": "af0cd080-aff2-47f2-ab67-4a533c685981"
      },
      "outputs": [
        {
          "name": "stdout",
          "output_type": "stream",
          "text": [
            "meow baw 77\n",
            "meow 77\n",
            "meow ['baw', 77]\n",
            "<class 'list'>\n"
          ]
        }
      ],
      "source": [
        "#and \"unpack\" them\n",
        "a,b,c=t\n",
        "print(a,b,c)\n",
        "v,_,z=t #allows to ignore elements\n",
        "print(v,z)\n",
        "e,*g=t #how to get the \"rest\"\n",
        "print(e,g)\n",
        "print(type(g))"
      ]
    },
    {
      "cell_type": "code",
      "execution_count": null,
      "metadata": {
        "id": "z3NCeHSE2Ohx",
        "outputId": "6c1a3f96-bf87-4650-ac16-726cc4151ec3"
      },
      "outputs": [
        {
          "name": "stdout",
          "output_type": "stream",
          "text": [
            "2 1\n"
          ]
        }
      ],
      "source": [
        "#we can swap like this:\n",
        "a = 1\n",
        "b = 2\n",
        "a, b = b, a\n",
        "print(a, b)"
      ]
    },
    {
      "cell_type": "markdown",
      "metadata": {
        "tags": [],
        "id": "pZFkCjT52Ohx"
      },
      "source": [
        "### **Magic**\n",
        "\n",
        "Jupyter embeds special commands (called magics):\n",
        "\n",
        " - magic multiple line commands start with \"%%\"\n",
        " - you can list magic commands running %lsmagic\n",
        " - you can pop-up the magic command documentation (if any) adding \"?\" after the command with no space\n",
        " - few magics you might find useful:\n",
        "    - ! runs inline shell commands\n",
        "    - %%bash to run bash program\n",
        "    - %%latex to render a latex block\n",
        "    - %%timeit to time a block\n",
        "    - %timeit to time a line\n",
        "    - %whos # list of all assigned variables\n",
        "    - %run filename.py # runs the python script filename.py\n",
        "    - %reset # delete all varible and definitions\n",
        "   "
      ]
    },
    {
      "cell_type": "code",
      "execution_count": null,
      "metadata": {
        "id": "JpmEdBor2Ohy",
        "outputId": "64df9844-f90e-44d6-a456-9368be9ec3c6"
      },
      "outputs": [
        {
          "data": {
            "application/json": {
              "cell": {
                "!": "OSMagics",
                "HTML": "Other",
                "SVG": "Other",
                "bash": "Other",
                "capture": "ExecutionMagics",
                "cmd": "Other",
                "code_wrap": "ExecutionMagics",
                "debug": "ExecutionMagics",
                "file": "Other",
                "html": "DisplayMagics",
                "javascript": "DisplayMagics",
                "js": "DisplayMagics",
                "latex": "DisplayMagics",
                "markdown": "DisplayMagics",
                "perl": "Other",
                "prun": "ExecutionMagics",
                "pypy": "Other",
                "python": "Other",
                "python2": "Other",
                "python3": "Other",
                "ruby": "Other",
                "script": "ScriptMagics",
                "sh": "Other",
                "svg": "DisplayMagics",
                "sx": "OSMagics",
                "system": "OSMagics",
                "time": "ExecutionMagics",
                "timeit": "ExecutionMagics",
                "writefile": "OSMagics"
              },
              "line": {
                "alias": "OSMagics",
                "alias_magic": "BasicMagics",
                "autoawait": "AsyncMagics",
                "autocall": "AutoMagics",
                "automagic": "AutoMagics",
                "autosave": "KernelMagics",
                "bookmark": "OSMagics",
                "cd": "OSMagics",
                "clear": "KernelMagics",
                "cls": "KernelMagics",
                "code_wrap": "ExecutionMagics",
                "colors": "BasicMagics",
                "conda": "PackagingMagics",
                "config": "ConfigMagics",
                "connect_info": "KernelMagics",
                "copy": "Other",
                "ddir": "Other",
                "debug": "ExecutionMagics",
                "dhist": "OSMagics",
                "dirs": "OSMagics",
                "doctest_mode": "BasicMagics",
                "echo": "Other",
                "ed": "Other",
                "edit": "KernelMagics",
                "env": "OSMagics",
                "gui": "BasicMagics",
                "hist": "Other",
                "history": "HistoryMagics",
                "killbgscripts": "ScriptMagics",
                "ldir": "Other",
                "less": "KernelMagics",
                "load": "CodeMagics",
                "load_ext": "ExtensionMagics",
                "loadpy": "CodeMagics",
                "logoff": "LoggingMagics",
                "logon": "LoggingMagics",
                "logstart": "LoggingMagics",
                "logstate": "LoggingMagics",
                "logstop": "LoggingMagics",
                "ls": "Other",
                "lsmagic": "BasicMagics",
                "macro": "ExecutionMagics",
                "magic": "BasicMagics",
                "mamba": "PackagingMagics",
                "matplotlib": "PylabMagics",
                "micromamba": "PackagingMagics",
                "mkdir": "Other",
                "more": "KernelMagics",
                "notebook": "BasicMagics",
                "page": "BasicMagics",
                "pastebin": "CodeMagics",
                "pdb": "ExecutionMagics",
                "pdef": "NamespaceMagics",
                "pdoc": "NamespaceMagics",
                "pfile": "NamespaceMagics",
                "pinfo": "NamespaceMagics",
                "pinfo2": "NamespaceMagics",
                "pip": "PackagingMagics",
                "popd": "OSMagics",
                "pprint": "BasicMagics",
                "precision": "BasicMagics",
                "prun": "ExecutionMagics",
                "psearch": "NamespaceMagics",
                "psource": "NamespaceMagics",
                "pushd": "OSMagics",
                "pwd": "OSMagics",
                "pycat": "OSMagics",
                "pylab": "PylabMagics",
                "qtconsole": "KernelMagics",
                "quickref": "BasicMagics",
                "recall": "HistoryMagics",
                "rehashx": "OSMagics",
                "reload_ext": "ExtensionMagics",
                "ren": "Other",
                "rep": "Other",
                "rerun": "HistoryMagics",
                "reset": "NamespaceMagics",
                "reset_selective": "NamespaceMagics",
                "rmdir": "Other",
                "run": "ExecutionMagics",
                "save": "CodeMagics",
                "sc": "OSMagics",
                "set_env": "OSMagics",
                "store": "StoreMagics",
                "sx": "OSMagics",
                "system": "OSMagics",
                "tb": "ExecutionMagics",
                "time": "ExecutionMagics",
                "timeit": "ExecutionMagics",
                "unalias": "OSMagics",
                "unload_ext": "ExtensionMagics",
                "uv": "PackagingMagics",
                "who": "NamespaceMagics",
                "who_ls": "NamespaceMagics",
                "whos": "NamespaceMagics",
                "xdel": "NamespaceMagics",
                "xmode": "BasicMagics"
              }
            },
            "text/plain": [
              "Available line magics:\n",
              "%alias  %alias_magic  %autoawait  %autocall  %automagic  %autosave  %bookmark  %cd  %clear  %cls  %code_wrap  %colors  %conda  %config  %connect_info  %copy  %ddir  %debug  %dhist  %dirs  %doctest_mode  %echo  %ed  %edit  %env  %gui  %hist  %history  %killbgscripts  %ldir  %less  %load  %load_ext  %loadpy  %logoff  %logon  %logstart  %logstate  %logstop  %ls  %lsmagic  %macro  %magic  %mamba  %matplotlib  %micromamba  %mkdir  %more  %notebook  %page  %pastebin  %pdb  %pdef  %pdoc  %pfile  %pinfo  %pinfo2  %pip  %popd  %pprint  %precision  %prun  %psearch  %psource  %pushd  %pwd  %pycat  %pylab  %qtconsole  %quickref  %recall  %rehashx  %reload_ext  %ren  %rep  %rerun  %reset  %reset_selective  %rmdir  %run  %save  %sc  %set_env  %store  %sx  %system  %tb  %time  %timeit  %unalias  %unload_ext  %uv  %who  %who_ls  %whos  %xdel  %xmode\n",
              "\n",
              "Available cell magics:\n",
              "%%!  %%HTML  %%SVG  %%bash  %%capture  %%cmd  %%code_wrap  %%debug  %%file  %%html  %%javascript  %%js  %%latex  %%markdown  %%perl  %%prun  %%pypy  %%python  %%python2  %%python3  %%ruby  %%script  %%sh  %%svg  %%sx  %%system  %%time  %%timeit  %%writefile\n",
              "\n",
              "Automagic is ON, % prefix IS NOT needed for line magics."
            ]
          },
          "execution_count": 3,
          "metadata": {},
          "output_type": "execute_result"
        }
      ],
      "source": [
        "%lsmagic"
      ]
    },
    {
      "cell_type": "code",
      "execution_count": null,
      "metadata": {
        "id": "Itb8FmgH2Ohy"
      },
      "outputs": [],
      "source": [
        "a=%pwd"
      ]
    },
    {
      "cell_type": "code",
      "execution_count": null,
      "metadata": {
        "id": "AcYmwn1D2Ohy",
        "outputId": "7ddcec0d-e9cb-4a34-e277-762dce703690"
      },
      "outputs": [
        {
          "name": "stdout",
          "output_type": "stream",
          "text": [
            "c:\\Users\\ASUS\\Documents\\GitHub\\ScientificPython_diploma25\n"
          ]
        }
      ],
      "source": [
        "print(a)"
      ]
    },
    {
      "cell_type": "code",
      "execution_count": null,
      "metadata": {
        "id": "Zfv14_Z12Ohz"
      },
      "outputs": [],
      "source": [
        "#%%timeit\n",
        "pow(((0.78)*12321312),0.123)\n",
        "pow(((0.78)*12321312),0.123)\n",
        "hjk=1"
      ]
    },
    {
      "cell_type": "code",
      "execution_count": null,
      "metadata": {
        "id": "RZ7mcF7v2Ohz",
        "outputId": "ccf6ffdd-0917-4294-fb78-ec0f83ff67fb"
      },
      "outputs": [
        {
          "name": "stdout",
          "output_type": "stream",
          "text": [
            "1\n"
          ]
        }
      ],
      "source": [
        "print(hjk)"
      ]
    },
    {
      "cell_type": "code",
      "execution_count": null,
      "metadata": {
        "id": "OPgyentK2Oh0",
        "outputId": "13730397-2d48-438f-8562-2401e653693d"
      },
      "outputs": [
        {
          "name": "stdout",
          "output_type": "stream",
          "text": [
            "Selected Jupyter core packages...\n",
            "IPython          : 8.31.0\n",
            "ipykernel        : 6.29.5\n",
            "ipywidgets       : not installed\n",
            "jupyter_client   : 8.6.3\n",
            "jupyter_core     : 5.7.2\n",
            "jupyter_server   : 2.15.0\n",
            "jupyterlab       : 4.3.4\n",
            "nbclient         : 0.10.2\n",
            "nbconvert        : 7.16.5\n",
            "nbformat         : 5.10.4\n",
            "notebook         : 7.3.2\n",
            "qtconsole        : not installed\n",
            "traitlets        : 5.14.3\n"
          ]
        }
      ],
      "source": [
        "!jupyter --version"
      ]
    },
    {
      "cell_type": "code",
      "execution_count": null,
      "metadata": {
        "id": "3ZOtFr2U2Oh0",
        "outputId": "f2417bf3-bfaa-4d13-9ff9-3c55ed2ec8c8"
      },
      "outputs": [
        {
          "name": "stdout",
          "output_type": "stream",
          "text": [
            "Variable   Type        Data/Info\n",
            "--------------------------------\n",
            "a          int         343\n",
            "b          float       7.3\n",
            "c          float       4.0\n",
            "d          complex     (8+2.1j)\n",
            "e          bool        True\n",
            "f          int         34\n",
            "g          NoneType    None\n",
            "i          int         123456789012345678901234567890\n",
            "j          int         1234567890129874897238748234799848932749827\n"
          ]
        }
      ],
      "source": [
        "%whos"
      ]
    },
    {
      "cell_type": "code",
      "execution_count": null,
      "metadata": {
        "id": "TvKi3dL82Oh0",
        "outputId": "bda12863-79dd-47a9-92ea-b784305936b6"
      },
      "outputs": [
        {
          "name": "stdout",
          "output_type": "stream",
          "text": [
            "63.7 ns ± 0.393 ns per loop (mean ± std. dev. of 7 runs, 10,000,000 loops each)\n",
            "13.1 ns ± 0.191 ns per loop (mean ± std. dev. of 7 runs, 100,000,000 loops each)\n"
          ]
        }
      ],
      "source": [
        "%timeit l = [0, 1, 2, 3, 4, 5, 6, 7, 8, 9]\n",
        "%timeit t = (0, 1, 2, 3, 4, 5, 6, 7, 8, 9)"
      ]
    },
    {
      "cell_type": "markdown",
      "metadata": {
        "id": "Vu-l-D4h2Oh1"
      },
      "source": [
        "### **Functions**\n",
        "\n",
        "```python\n",
        "def function_name(arg1, arg2, arg3):\n",
        "    '''Documentation\n",
        "    can be\n",
        "    on multiple\n",
        "    lines\n",
        "    '''\n",
        "    what the function does\n",
        "```\n",
        "* `return` statement is optional\n",
        "* `return` you can return multiple elements returning a `tuple`\n",
        "```python\n",
        "    return a,b,c\n",
        "```"
      ]
    },
    {
      "cell_type": "code",
      "execution_count": null,
      "metadata": {
        "id": "DFp0CnUH2Oh1",
        "outputId": "6f6508f6-a84f-48fd-ab89-650418027bf5"
      },
      "outputs": [
        {
          "name": "stdout",
          "output_type": "stream",
          "text": [
            "hello, cat\n",
            "hello, cat\n"
          ]
        }
      ],
      "source": [
        "def hello(name):\n",
        "    \"\"\"prints 'hello' followed by the arg name\"\"\"\n",
        "    print(\"hello,\", name)\n",
        "\n",
        "\n",
        "hello(\"cat\")\n",
        "hello(name=\"cat\")"
      ]
    },
    {
      "cell_type": "code",
      "execution_count": null,
      "metadata": {
        "id": "2Fnh6wIA2Oh2",
        "outputId": "ea67c033-4633-49e6-d39c-12a5c0a40496"
      },
      "outputs": [
        {
          "name": "stdout",
          "output_type": "stream",
          "text": [
            "Help on function hello in module __main__:\n",
            "\n",
            "hello(name)\n",
            "    prints 'hello' followed by the arg name\n",
            "\n"
          ]
        }
      ],
      "source": [
        "help(hello)"
      ]
    },
    {
      "cell_type": "code",
      "execution_count": null,
      "metadata": {
        "id": "B8S94cXa2Oh2",
        "outputId": "ba74dbea-7724-45c0-f367-f2d823dd49c3"
      },
      "outputs": [
        {
          "data": {
            "text/plain": [
              "\u001b[0;31mSignature:\u001b[0m \u001b[0mhello\u001b[0m\u001b[0;34m(\u001b[0m\u001b[0mname\u001b[0m\u001b[0;34m)\u001b[0m\u001b[0;34m\u001b[0m\u001b[0;34m\u001b[0m\u001b[0m\n",
              "\u001b[0;31mDocstring:\u001b[0m prints 'hello' followed by the arg name\n",
              "\u001b[0;31mFile:\u001b[0m      /tmp/ipykernel_19187/1994861136.py\n",
              "\u001b[0;31mType:\u001b[0m      function"
            ]
          },
          "metadata": {},
          "output_type": "display_data"
        }
      ],
      "source": [
        "hello?"
      ]
    },
    {
      "cell_type": "code",
      "execution_count": null,
      "metadata": {
        "id": "L5MVY-me2Oh2",
        "outputId": "65112ce1-4410-461d-da98-154cec6a39a3"
      },
      "outputs": [
        {
          "name": "stdout",
          "output_type": "stream",
          "text": [
            "hello,  1\n"
          ]
        }
      ],
      "source": [
        "def interactive_hello():\n",
        "    \"\"\"prompt the user for a name, then prints \"hello\" followed by the name\"\"\"\n",
        "    name = str(input(\"write your name:\"))\n",
        "    print(\"hello, \", name)\n",
        "\n",
        "\n",
        "interactive_hello()"
      ]
    },
    {
      "cell_type": "code",
      "execution_count": null,
      "metadata": {
        "id": "tj1182-O2Oh3",
        "outputId": "0fca48f4-437c-4f8e-ce4e-9e8be4d87ec9"
      },
      "outputs": [
        {
          "name": "stdout",
          "output_type": "stream",
          "text": [
            "hello, cat1\n",
            "hello, cat2\n",
            "hello, cat3\n",
            "hello, 2\n",
            "cat2\n",
            "<class 'tuple'>\n"
          ]
        }
      ],
      "source": [
        "#unknown number of arguments\n",
        "def multi_hello(*names):\n",
        "    \"\"\"for each name in names print \"hello\" name\"\"\"\n",
        "    for i in names:\n",
        "        print(\"hello,\", i)\n",
        "    print(names[1])\n",
        "    print(type(names))\n",
        "\n",
        "\n",
        "multi_hello(\"cat1\", \"cat2\", \"cat3\",2)"
      ]
    },
    {
      "cell_type": "code",
      "execution_count": null,
      "metadata": {
        "id": "aEinnLjR2Oh3",
        "outputId": "84f86a46-d7f1-4f61-a951-2365f5c0ca2a"
      },
      "outputs": [
        {
          "name": "stdout",
          "output_type": "stream",
          "text": [
            "41 1e-07\n"
          ]
        }
      ],
      "source": [
        "#return multiple arguments\n",
        "def funct():\n",
        "    \"\"\"super complicated algorithm which returns value and error estimation\"\"\"\n",
        "    value = 41\n",
        "    error = 1e-7\n",
        "    return value, error\n",
        "\n",
        "\n",
        "v, e = funct()\n",
        "print(v, e)"
      ]
    },
    {
      "cell_type": "code",
      "execution_count": null,
      "metadata": {
        "id": "388p0ncf2Oh4"
      },
      "outputs": [],
      "source": [
        "#recursive fucntions:\n",
        "def factorial(n):\n",
        "    if n < 2:\n",
        "        return 1\n",
        "    return n * factorial(n - 1)"
      ]
    },
    {
      "cell_type": "code",
      "execution_count": null,
      "metadata": {
        "id": "wekBvkgc2Oh4",
        "outputId": "76d5c1b8-abd4-4eca-faa4-69b14f119401"
      },
      "outputs": [
        {
          "data": {
            "text/plain": [
              "8683317618811886495518194401280000000"
            ]
          },
          "execution_count": 23,
          "metadata": {},
          "output_type": "execute_result"
        }
      ],
      "source": [
        "factorial(33)"
      ]
    },
    {
      "cell_type": "markdown",
      "metadata": {
        "id": "rg3n9P9l2Oh4"
      },
      "source": [
        "**Keyword arguments**\n",
        "\n",
        "A keyword argument is an argument passed to a function or method which is preceded by a keyword and an equals sign. The general form is:\n",
        "\n",
        "```\n",
        "function(keyword=value)\n",
        "```\n",
        "\n",
        "This way you don't have to remember the order of the arguments"
      ]
    },
    {
      "cell_type": "code",
      "execution_count": null,
      "metadata": {
        "id": "eCPtZJwx2Oh5",
        "outputId": "23282b83-b320-462f-d5b0-543c325964ad"
      },
      "outputs": [
        {
          "ename": "SyntaxError",
          "evalue": "parameter without a default follows parameter with a default (3089624087.py, line 1)",
          "output_type": "error",
          "traceback": [
            "\u001b[1;36m  Cell \u001b[1;32mIn[24], line 1\u001b[1;36m\u001b[0m\n\u001b[1;33m    def f(a,b=0,c):\u001b[0m\n\u001b[1;37m                ^\u001b[0m\n\u001b[1;31mSyntaxError\u001b[0m\u001b[1;31m:\u001b[0m parameter without a default follows parameter with a default\n"
          ]
        }
      ],
      "source": [
        "def f(a,b=0,c):\n",
        "    print(a+1)\n",
        "    print(b+2)\n",
        "f(1,c=3,b=4)\n",
        "#f(b=5,a=2)"
      ]
    },
    {
      "cell_type": "markdown",
      "metadata": {
        "id": "jMn3XF492Oh5"
      },
      "source": [
        "If you are used to \"thinking in c/c++/fortran\", you might be confused as to how parameters are passed. It's called \"by association\" and behaves like \"by value\" or \"by reference\" depending on what you pass."
      ]
    },
    {
      "cell_type": "code",
      "execution_count": null,
      "metadata": {
        "id": "iZrIMK4b2Oh5",
        "outputId": "6cd92b03-b423-426c-f5de-5896dfa3c1f8"
      },
      "outputs": [
        {
          "name": "stdout",
          "output_type": "stream",
          "text": [
            "33\n",
            "1\n"
          ]
        }
      ],
      "source": [
        "a=1\n",
        "def f(x):\n",
        "    x=x+32\n",
        "    return x\n",
        "\n",
        "print(f(a))\n",
        "print(a)"
      ]
    },
    {
      "cell_type": "code",
      "execution_count": null,
      "metadata": {
        "id": "teLP3Rap2Oh6",
        "outputId": "ce8011b6-24a5-4a8f-b818-a029cc9a1d82"
      },
      "outputs": [
        {
          "name": "stdout",
          "output_type": "stream",
          "text": [
            "33\n"
          ]
        }
      ],
      "source": [
        "#so you have to do\n",
        "a=f(a)\n",
        "print(a)"
      ]
    },
    {
      "cell_type": "code",
      "execution_count": null,
      "metadata": {
        "id": "o_0xPKTM2Oh6",
        "outputId": "7b293755-52d4-4a70-bab9-aaf9c1fc985f"
      },
      "outputs": [
        {
          "name": "stdout",
          "output_type": "stream",
          "text": [
            "[999, 2, 3, 4, 5]\n"
          ]
        }
      ],
      "source": [
        "#it's different with lists though:\n",
        "def lf(x):\n",
        "    x[0]=999\n",
        "x=[1,2,3,4,5]\n",
        "lf(x)\n",
        "print(x)"
      ]
    },
    {
      "cell_type": "markdown",
      "metadata": {
        "id": "GIifX0QI2Oh6"
      },
      "source": [
        "**lambda functions**\n",
        "(usually used inside other complicated functions)"
      ]
    },
    {
      "cell_type": "code",
      "execution_count": 23,
      "metadata": {
        "id": "ToU8lZnI2Oh7",
        "outputId": "d03896ec-dde9-4709-c010-0cdf396baa8f",
        "colab": {
          "base_uri": "https://localhost:8080/"
        }
      },
      "outputs": [
        {
          "output_type": "stream",
          "name": "stdout",
          "text": [
            "15\n"
          ]
        }
      ],
      "source": [
        "x = lambda a : a + 10\n",
        "print(x(5))"
      ]
    },
    {
      "cell_type": "code",
      "execution_count": 24,
      "metadata": {
        "id": "sXS3gQ_W2Oh8"
      },
      "outputs": [],
      "source": [
        "def myfunc(n):\n",
        "    return lambda a : a * n"
      ]
    },
    {
      "cell_type": "code",
      "execution_count": 24,
      "metadata": {
        "id": "0LBDrDgK2Oh8"
      },
      "outputs": [],
      "source": []
    },
    {
      "cell_type": "code",
      "execution_count": 25,
      "metadata": {
        "id": "I-fhrlNy2Oh8"
      },
      "outputs": [],
      "source": [
        "mymult2=myfunc(4)"
      ]
    },
    {
      "cell_type": "code",
      "execution_count": 26,
      "metadata": {
        "id": "xWdU8jK22Oh9",
        "outputId": "691f79d5-d83e-44e4-c271-d1ed0e7c6967",
        "colab": {
          "base_uri": "https://localhost:8080/"
        }
      },
      "outputs": [
        {
          "output_type": "execute_result",
          "data": {
            "text/plain": [
              "function"
            ]
          },
          "metadata": {},
          "execution_count": 26
        }
      ],
      "source": [
        "type(mymult2)"
      ]
    },
    {
      "cell_type": "code",
      "execution_count": 27,
      "metadata": {
        "id": "cRp9bbvL2Oh9",
        "outputId": "25fe93a6-7f46-4693-b57a-eac566c9c227",
        "colab": {
          "base_uri": "https://localhost:8080/"
        }
      },
      "outputs": [
        {
          "output_type": "execute_result",
          "data": {
            "text/plain": [
              "12"
            ]
          },
          "metadata": {},
          "execution_count": 27
        }
      ],
      "source": [
        "mymult2(3)"
      ]
    },
    {
      "cell_type": "markdown",
      "metadata": {
        "id": "-42Hih352Oh9"
      },
      "source": [
        "**Is it by value or by reference?**\n",
        "\n",
        "If you are used to \"thinking in c/c++/fortran\", you might be confused as to how parameters are passed. It's called \"by association\" and behaves like \"by value\" or \"by reference\" depending on what you pass. Actually, you always pass \"a reference to an object\", but some objects, like integers, are *immutable* and can't be changed, while others, like lists, are *mutable*."
      ]
    },
    {
      "cell_type": "code",
      "execution_count": null,
      "metadata": {
        "id": "d3b5CBG-2Oh-",
        "outputId": "6751518c-e39e-4f5d-f3bd-e84567f63e62"
      },
      "outputs": [
        {
          "name": "stdout",
          "output_type": "stream",
          "text": [
            "33\n",
            "1\n"
          ]
        }
      ],
      "source": [
        "a=1\n",
        "def f(x):\n",
        "    x=x+32\n",
        "    return x\n",
        "\n",
        "print(f(a))\n",
        "print(a)"
      ]
    },
    {
      "cell_type": "code",
      "execution_count": null,
      "metadata": {
        "id": "fO3lUaXF2Oh-",
        "outputId": "33a908f3-f8ee-41a5-a9ca-eb2bed96d15c"
      },
      "outputs": [
        {
          "name": "stdout",
          "output_type": "stream",
          "text": [
            "33\n"
          ]
        }
      ],
      "source": [
        "#so you have to do\n",
        "a=f(a)\n",
        "print(a)"
      ]
    },
    {
      "cell_type": "code",
      "execution_count": null,
      "metadata": {
        "id": "7BeXuR7N2Oh-",
        "outputId": "8de467f9-1891-4c8d-e60e-aff419a6b87e"
      },
      "outputs": [
        {
          "name": "stdout",
          "output_type": "stream",
          "text": [
            "[999, 2, 3, 4, 5]\n"
          ]
        }
      ],
      "source": [
        "#it's different with lists though:\n",
        "def lf(x):\n",
        "    x[0]=999\n",
        "x=[1,2,3,4,5]\n",
        "lf(x)\n",
        "print(x)"
      ]
    },
    {
      "cell_type": "code",
      "execution_count": null,
      "metadata": {
        "id": "90bTQScP2Oh_"
      },
      "outputs": [],
      "source": []
    }
  ],
  "metadata": {
    "kernelspec": {
      "display_name": "base",
      "language": "python",
      "name": "python3"
    },
    "language_info": {
      "codemirror_mode": {
        "name": "ipython",
        "version": 3
      },
      "file_extension": ".py",
      "mimetype": "text/x-python",
      "name": "python",
      "nbconvert_exporter": "python",
      "pygments_lexer": "ipython3",
      "version": "3.12.3"
    },
    "colab": {
      "provenance": []
    }
  },
  "nbformat": 4,
  "nbformat_minor": 0
}