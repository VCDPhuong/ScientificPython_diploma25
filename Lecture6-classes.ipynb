{
  "cells": [
    {
      "cell_type": "markdown",
      "id": "578db769-0c2c-4902-b8de-60a8e8c06c8b",
      "metadata": {
        "id": "578db769-0c2c-4902-b8de-60a8e8c06c8b"
      },
      "source": [
        "### **Classes**"
      ]
    },
    {
      "cell_type": "markdown",
      "id": "16bdde07-ce54-4dde-afe3-5e6e982404fe",
      "metadata": {
        "id": "16bdde07-ce54-4dde-afe3-5e6e982404fe"
      },
      "source": [
        "Classes in Python are used to define custom data structures and bundle together data and functions that operate on it. Classes provide a way to structure code and encapsulate data, making it easier to manage, maintain and reuse your code.\n",
        "\n",
        "\n",
        "Let's look at the basic syntax:"
      ]
    },
    {
      "cell_type": "code",
      "execution_count": null,
      "id": "d399a2da-3c69-4c88-9c57-e48b2e8526ec",
      "metadata": {
        "id": "d399a2da-3c69-4c88-9c57-e48b2e8526ec"
      },
      "outputs": [],
      "source": [
        "class MyFirstClass: #syntax to define a class\n",
        "    \"\"\" My First Class documentation \"\"\"\n",
        "    some_variable = 757 #member variable\n",
        "\n",
        "    def greet(self): #member function\n",
        "         print(\"Hello, World, I'm a useless class!\")"
      ]
    },
    {
      "cell_type": "code",
      "execution_count": null,
      "id": "b839a8ad-624a-471c-a85c-dedbce85ee93",
      "metadata": {
        "id": "b839a8ad-624a-471c-a85c-dedbce85ee93",
        "outputId": "1e6d679c-9d36-4b69-c565-944252fe7a41"
      },
      "outputs": [
        {
          "name": "stdout",
          "output_type": "stream",
          "text": [
            "<class '__main__.MyFirstClass'>\n",
            "757\n",
            "Hello, World, I'm a useless class!\n",
            "234\n",
            "can change to string\n"
          ]
        }
      ],
      "source": [
        "myvar = MyFirstClass() #create a class instance\n",
        "print(type(myvar))\n",
        "print(myvar.some_variable) #print the data\n",
        "myvar.greet() #call a member function\n",
        "myvar.some_variable = 234 #change a member variable\n",
        "print(myvar.some_variable)\n",
        "myvar.some_variable = \"can change to string\" #change a member variable to a different type\n",
        "print(myvar.some_variable)"
      ]
    },
    {
      "cell_type": "markdown",
      "id": "6ae86109-7f6a-4000-a538-69fd8ca55dbc",
      "metadata": {
        "id": "6ae86109-7f6a-4000-a538-69fd8ca55dbc"
      },
      "source": [
        "The `__init__` method in is a special method in Python classes, also known as a constructor. It is called automatically when a new instance of the class is created, and it is used to initialize the instance variables of the class.\n"
      ]
    },
    {
      "cell_type": "code",
      "execution_count": null,
      "id": "d5d56950-98a9-42b6-a7e5-e90e04eb2bc4",
      "metadata": {
        "id": "d5d56950-98a9-42b6-a7e5-e90e04eb2bc4"
      },
      "outputs": [],
      "source": [
        " class MySecondClass:\n",
        "    \"\"\" My Second Class documentation \"\"\"\n",
        "   # number=0\n",
        "    def __init__(self, number=0):\n",
        "        self.number = number"
      ]
    },
    {
      "cell_type": "markdown",
      "id": "42821d6d-83cc-4cd5-a9d3-48452c34ae07",
      "metadata": {
        "id": "42821d6d-83cc-4cd5-a9d3-48452c34ae07"
      },
      "source": [
        "Note that `self` is obligatory as a first argument to all class functions. On the bright side, you can reuse names of member variables for initialization parameters."
      ]
    },
    {
      "cell_type": "code",
      "execution_count": null,
      "id": "850e03e1-5d80-4ad6-be5a-3a3feeeadce9",
      "metadata": {
        "id": "850e03e1-5d80-4ad6-be5a-3a3feeeadce9",
        "outputId": "76068e8b-593f-4c0b-d5d5-e56a81ee9887"
      },
      "outputs": [
        {
          "name": "stdout",
          "output_type": "stream",
          "text": [
            "0\n",
            "7\n"
          ]
        }
      ],
      "source": [
        "myvar2=MySecondClass()\n",
        "myvar3=MySecondClass(7)\n",
        "print(myvar2.number)\n",
        "print(myvar3.number)"
      ]
    },
    {
      "cell_type": "markdown",
      "id": "b1d4bfd9-0e55-49a3-bb9a-b2002425808e",
      "metadata": {
        "id": "b1d4bfd9-0e55-49a3-bb9a-b2002425808e"
      },
      "source": [
        "Changing the values:"
      ]
    },
    {
      "cell_type": "code",
      "execution_count": null,
      "id": "0e325f09-84d6-4bbb-8f60-80367b701812",
      "metadata": {
        "id": "0e325f09-84d6-4bbb-8f60-80367b701812",
        "outputId": "33d461f5-dbd0-4145-b468-11033c5d2774"
      },
      "outputs": [
        {
          "name": "stdout",
          "output_type": "stream",
          "text": [
            "99\n",
            "111\n"
          ]
        }
      ],
      "source": [
        "myvar2.number=99\n",
        "myvar3.number=111\n",
        "print(myvar2.number)\n",
        "print(myvar3.number)"
      ]
    },
    {
      "cell_type": "markdown",
      "id": "b7d408a9-9aa9-4e82-bb1e-7f57745dda76",
      "metadata": {
        "id": "b7d408a9-9aa9-4e82-bb1e-7f57745dda76"
      },
      "source": [
        "You can add variables to the class or class instance after the definition, but it's bad practice as it makes the code hard to understand."
      ]
    },
    {
      "cell_type": "code",
      "execution_count": null,
      "id": "b915388d-4d1a-4c48-8110-ac37638b39d4",
      "metadata": {
        "id": "b915388d-4d1a-4c48-8110-ac37638b39d4",
        "outputId": "35cdafc3-c1ab-4da2-8f03-4ffe3a33b56c"
      },
      "outputs": [
        {
          "name": "stdout",
          "output_type": "stream",
          "text": [
            "8\n",
            "7\n"
          ]
        }
      ],
      "source": [
        "myvar2.new_var=8 #this was not defined in a class, don't do that\n",
        "myvar3.new_var=7\n",
        "print(myvar2.new_var)\n",
        "print(myvar3.new_var)\n"
      ]
    },
    {
      "cell_type": "code",
      "execution_count": null,
      "id": "0f952d5f-5c1b-4ba0-bf24-6aa0fd4fa25e",
      "metadata": {
        "id": "0f952d5f-5c1b-4ba0-bf24-6aa0fd4fa25e",
        "outputId": "ab811ce3-7db8-4e22-b645-6d19fc00fc6d"
      },
      "outputs": [
        {
          "ename": "AttributeError",
          "evalue": "'MySecondClass' object has no attribute 'new_var'",
          "output_type": "error",
          "traceback": [
            "\u001b[0;31m---------------------------------------------------------------------------\u001b[0m",
            "\u001b[0;31mAttributeError\u001b[0m                            Traceback (most recent call last)",
            "Cell \u001b[0;32mIn[17], line 2\u001b[0m\n\u001b[1;32m      1\u001b[0m myvar4\u001b[38;5;241m=\u001b[39mMySecondClass()\n\u001b[0;32m----> 2\u001b[0m \u001b[38;5;28mprint\u001b[39m(\u001b[43mmyvar4\u001b[49m\u001b[38;5;241;43m.\u001b[39;49m\u001b[43mnew_var\u001b[49m)\n",
            "\u001b[0;31mAttributeError\u001b[0m: 'MySecondClass' object has no attribute 'new_var'"
          ]
        }
      ],
      "source": [
        "myvar4=MySecondClass()\n",
        "print(myvar4.new_var)"
      ]
    },
    {
      "cell_type": "markdown",
      "id": "f9249ae2-6504-4e3c-a0ee-b54917d2f7d8",
      "metadata": {
        "id": "f9249ae2-6504-4e3c-a0ee-b54917d2f7d8"
      },
      "source": [
        "This will only add the variable to the instance of the class, not the class itself. You can add the variable by calling the name of the class though (again, don't do that)."
      ]
    },
    {
      "cell_type": "code",
      "execution_count": null,
      "id": "3ea67924-7fd8-4a11-8f98-abc604b65a4b",
      "metadata": {
        "id": "3ea67924-7fd8-4a11-8f98-abc604b65a4b",
        "outputId": "4a43a2f2-3661-4834-8d0d-0a4d21bf0aae"
      },
      "outputs": [
        {
          "name": "stdout",
          "output_type": "stream",
          "text": [
            "11\n"
          ]
        }
      ],
      "source": [
        "MySecondClass.new_var=11; #don't do this\n",
        "myvar5=MySecondClass(0)\n",
        "print(myvar5.new_var)"
      ]
    },
    {
      "cell_type": "markdown",
      "id": "57eec161-55ac-424e-a704-722320b99c7e",
      "metadata": {
        "id": "57eec161-55ac-424e-a704-722320b99c7e"
      },
      "source": [
        "Not that the assignent is just another label, not a copy. You would need to implement the `copy` fucntion to actually create a copy."
      ]
    },
    {
      "cell_type": "code",
      "execution_count": null,
      "id": "7be73741-b848-4db2-ae81-e1cd8cd8f0fc",
      "metadata": {
        "id": "7be73741-b848-4db2-ae81-e1cd8cd8f0fc",
        "outputId": "7bccacd5-9376-445f-b2ba-8b6e10a230fd"
      },
      "outputs": [
        {
          "ename": "AttributeError",
          "evalue": "'MySecondClass' object has no attribute 'copy'",
          "output_type": "error",
          "traceback": [
            "\u001b[0;31m---------------------------------------------------------------------------\u001b[0m",
            "\u001b[0;31mAttributeError\u001b[0m                            Traceback (most recent call last)",
            "Cell \u001b[0;32mIn[20], line 1\u001b[0m\n\u001b[0;32m----> 1\u001b[0m myvar6\u001b[38;5;241m=\u001b[39m\u001b[43mmyvar3\u001b[49m\u001b[38;5;241;43m.\u001b[39;49m\u001b[43mcopy\u001b[49m() \u001b[38;5;66;03m#just an extra label, not a copy\u001b[39;00m\n\u001b[1;32m      2\u001b[0m myvar3\u001b[38;5;241m.\u001b[39mnumber\u001b[38;5;241m=\u001b[39m\u001b[38;5;241m5679\u001b[39m\n\u001b[1;32m      3\u001b[0m \u001b[38;5;28mprint\u001b[39m(myvar6\u001b[38;5;241m.\u001b[39mnumber)\n",
            "\u001b[0;31mAttributeError\u001b[0m: 'MySecondClass' object has no attribute 'copy'"
          ]
        }
      ],
      "source": [
        "myvar6=myvar3.copy() #just an extra label, not a copy\n",
        "myvar3.number=5679\n",
        "print(myvar6.number)"
      ]
    },
    {
      "cell_type": "markdown",
      "id": "75e55114-055d-4024-841b-b015038e5a8b",
      "metadata": {
        "id": "75e55114-055d-4024-841b-b015038e5a8b"
      },
      "source": [
        "### **More meaningful example:**"
      ]
    },
    {
      "cell_type": "code",
      "execution_count": null,
      "id": "abcdbe74-c576-44c4-9583-fbd5ae029fa0",
      "metadata": {
        "id": "abcdbe74-c576-44c4-9583-fbd5ae029fa0"
      },
      "outputs": [],
      "source": [
        "class Coordinate:\n",
        "    def __init__(self, x=0, y=0):\n",
        "        self.x = x\n",
        "        self.y = y\n",
        "\n",
        "    def distance(self, other_coordinate):\n",
        "        x_diff = (self.x - other_coordinate.x)**2\n",
        "        y_diff = (self.y - other_coordinate.y)**2\n",
        "        return (x_diff + y_diff)**0.5"
      ]
    },
    {
      "cell_type": "code",
      "execution_count": null,
      "id": "d1c969eb-0079-4d53-9f41-e8a6811689ea",
      "metadata": {
        "id": "d1c969eb-0079-4d53-9f41-e8a6811689ea",
        "outputId": "66d511e3-b2d0-4db2-b738-6a6f97a72ea8"
      },
      "outputs": [
        {
          "name": "stdout",
          "output_type": "stream",
          "text": [
            "5.0\n"
          ]
        }
      ],
      "source": [
        "point1 = Coordinate()\n",
        "point2 = Coordinate(3, 4)\n",
        "print(point1.distance(point2))"
      ]
    },
    {
      "cell_type": "markdown",
      "id": "0175e11b-c4af-40f0-93e9-9d1c20230bdd",
      "metadata": {
        "id": "0175e11b-c4af-40f0-93e9-9d1c20230bdd"
      },
      "source": [
        "#### **How to define a printing operation:**"
      ]
    },
    {
      "cell_type": "code",
      "execution_count": null,
      "id": "4216373d-a519-4a3f-8988-8fadd6eced1a",
      "metadata": {
        "id": "4216373d-a519-4a3f-8988-8fadd6eced1a",
        "outputId": "cbbe7368-cbd7-4a92-9d94-cc99ec4d5b0a"
      },
      "outputs": [
        {
          "name": "stdout",
          "output_type": "stream",
          "text": [
            "<__main__.MySecondClass object at 0x7f746866b710>\n"
          ]
        }
      ],
      "source": [
        "print(myvar3) #no actual info, need to define a function for this"
      ]
    },
    {
      "cell_type": "code",
      "execution_count": null,
      "id": "78cdd797-cc47-41e6-bdfb-e7c2ac4ff641",
      "metadata": {
        "id": "78cdd797-cc47-41e6-bdfb-e7c2ac4ff641"
      },
      "outputs": [],
      "source": [
        "class MyThirdClass:\n",
        "    def __init__(self,a,b):\n",
        "        self.a=a\n",
        "        self.b=b\n",
        "\n",
        "    def print(self): #non pythonic way, avoid it if possible\n",
        "        print(self.a,self.b)\n",
        "\n",
        "    def __str__(self):\n",
        "        return \"hi {0},{1}\".format(self.a, self.b) #\"converts\" class to a string"
      ]
    },
    {
      "cell_type": "code",
      "execution_count": null,
      "id": "4b5690b0-ab54-485f-b79e-f63318920adb",
      "metadata": {
        "id": "4b5690b0-ab54-485f-b79e-f63318920adb",
        "outputId": "426646a6-813c-4e1d-c752-bea1ef27fb2b"
      },
      "outputs": [
        {
          "name": "stdout",
          "output_type": "stream",
          "text": [
            "1 1\n",
            "hi 1,1\n",
            "hi 22,33\n",
            "99 0\n"
          ]
        }
      ],
      "source": [
        "tc=MyThirdClass(1,1)\n",
        "tc.print()\n",
        "print(tc)\n",
        "print(MyThirdClass(22,33))\n",
        "MyThirdClass(99,0).print()"
      ]
    },
    {
      "cell_type": "markdown",
      "id": "8d86e447-3826-4d44-bc0d-7ffa5867a520",
      "metadata": {
        "id": "8d86e447-3826-4d44-bc0d-7ffa5867a520"
      },
      "source": [
        "The method name `__str__` starts with double underscores because it is a special method in Python called a \"magic method\" (that's another type of \"magic\", it has nothing to do with Jupyter this time) or \"dunder\" (short for \"double underscore\").\n",
        "\n",
        "The `__str__` magic method is used to define the string representation of an object, which is what is displayed when you call print on the object or convert it to a string using `str()`."
      ]
    },
    {
      "cell_type": "markdown",
      "id": "f1f5e84c-b29b-4cb0-8c41-82ccc1195cca",
      "metadata": {
        "id": "f1f5e84c-b29b-4cb0-8c41-82ccc1195cca"
      },
      "source": [
        "#### **Defining operators:**"
      ]
    },
    {
      "cell_type": "code",
      "execution_count": null,
      "id": "48f1ab8b-9cb9-4ade-b9fe-0dbb11494a82",
      "metadata": {
        "id": "48f1ab8b-9cb9-4ade-b9fe-0dbb11494a82",
        "outputId": "35f46258-8d8e-440d-f63f-d10619bbfa13"
      },
      "outputs": [
        {
          "ename": "TypeError",
          "evalue": "unsupported operand type(s) for +: 'MyThirdClass' and 'MyThirdClass'",
          "output_type": "error",
          "traceback": [
            "\u001b[0;31m---------------------------------------------------------------------------\u001b[0m",
            "\u001b[0;31mTypeError\u001b[0m                                 Traceback (most recent call last)",
            "Cell \u001b[0;32mIn[30], line 3\u001b[0m\n\u001b[1;32m      1\u001b[0m var1\u001b[38;5;241m=\u001b[39mMyThirdClass(\u001b[38;5;241m11\u001b[39m,\u001b[38;5;241m22\u001b[39m)\n\u001b[1;32m      2\u001b[0m var2\u001b[38;5;241m=\u001b[39mMyThirdClass(\u001b[38;5;241m22\u001b[39m,\u001b[38;5;241m33\u001b[39m)\n\u001b[0;32m----> 3\u001b[0m \u001b[38;5;28mprint\u001b[39m(\u001b[43mvar1\u001b[49m\u001b[38;5;241;43m+\u001b[39;49m\u001b[43mvar2\u001b[49m) \u001b[38;5;66;03m#error\u001b[39;00m\n",
            "\u001b[0;31mTypeError\u001b[0m: unsupported operand type(s) for +: 'MyThirdClass' and 'MyThirdClass'"
          ]
        }
      ],
      "source": [
        "var1=MyThirdClass(11,22)\n",
        "var2=MyThirdClass(22,33)\n",
        "print(var1+var2) #error"
      ]
    },
    {
      "cell_type": "markdown",
      "id": "4ec00ebd-293b-4a82-83fc-e48c8df95af5",
      "metadata": {
        "id": "4ec00ebd-293b-4a82-83fc-e48c8df95af5"
      },
      "source": [
        "You need to use more \"magic\" methods for that:"
      ]
    },
    {
      "cell_type": "code",
      "execution_count": 35,
      "id": "9f41cd44-5d05-4abe-b991-046be47b3296",
      "metadata": {
        "id": "9f41cd44-5d05-4abe-b991-046be47b3296"
      },
      "outputs": [],
      "source": [
        "class MyThirdClass:\n",
        "    def __init__(self,a,b):\n",
        "        self.a=a\n",
        "        self.b=b\n",
        "\n",
        "    def __add__(self,other):\n",
        "        x=self.a+other.a\n",
        "        y=self.b+other.b\n",
        "        c=2\n",
        "        return MyThirdClass(x,y)\n",
        "        #return (x,y)\n",
        "\n",
        "    def __str__(self):\n",
        "        return \"{0},{1}\".format(self.a, self.b) #\"converts\" class to a string"
      ]
    },
    {
      "cell_type": "code",
      "execution_count": 36,
      "id": "98eb5b20-deba-407c-8727-645cedbf6176",
      "metadata": {
        "colab": {
          "base_uri": "https://localhost:8080/"
        },
        "id": "98eb5b20-deba-407c-8727-645cedbf6176",
        "outputId": "a4a4bb8d-8dca-42e0-b3b8-41643e22570f"
      },
      "outputs": [
        {
          "output_type": "stream",
          "name": "stdout",
          "text": [
            "23,36\n",
            "1,3\n"
          ]
        }
      ],
      "source": [
        "#note that you have to redefine the variables, or they are not updated after we updated the class\n",
        "var1=MyThirdClass(1,3)\n",
        "var2=MyThirdClass(22,33)\n",
        "print(var1+ var2)\n",
        "print(var1)"
      ]
    },
    {
      "cell_type": "markdown",
      "id": "b664f70e-e625-44d9-9c7d-78d558849a86",
      "metadata": {
        "id": "b664f70e-e625-44d9-9c7d-78d558849a86"
      },
      "source": [
        "#### **Modules**"
      ]
    },
    {
      "cell_type": "markdown",
      "id": "a56e8486-14e2-417e-9ab2-b878440c2d44",
      "metadata": {
        "id": "a56e8486-14e2-417e-9ab2-b878440c2d44"
      },
      "source": [
        "If your program becomes too long or if you want to reuse the functions/classes you've writen, you might want to create own modules. You just need to create a file with those functions/classes, then `import` it the way you do with numpy."
      ]
    },
    {
      "cell_type": "markdown",
      "id": "9b19871e-a57c-4485-ba7f-72054aa50472",
      "metadata": {
        "id": "9b19871e-a57c-4485-ba7f-72054aa50472"
      },
      "source": [
        "The `file` cell magic command lets you create a text file with the contents of the cell (of course you can just create that file in any text editor):"
      ]
    },
    {
      "cell_type": "code",
      "execution_count": null,
      "id": "59070244-ba5c-4f76-801f-788fe3c1125f",
      "metadata": {
        "id": "59070244-ba5c-4f76-801f-788fe3c1125f",
        "outputId": "2455370c-356a-4dcf-eea9-6230cd48944a"
      },
      "outputs": [
        {
          "name": "stdout",
          "output_type": "stream",
          "text": [
            "Writing mymodule.py\n"
          ]
        }
      ],
      "source": [
        "%%file \"mymodule.py\"\n",
        "\n",
        "def sin(a):\n",
        "    return 77"
      ]
    },
    {
      "cell_type": "code",
      "execution_count": null,
      "id": "db846aac-1077-4a8c-8e5e-76f25a12f198",
      "metadata": {
        "id": "db846aac-1077-4a8c-8e5e-76f25a12f198"
      },
      "outputs": [],
      "source": [
        "import numpy as np"
      ]
    },
    {
      "cell_type": "code",
      "execution_count": null,
      "id": "44fdb8fe-3b63-4ccf-a2a4-a684d468e9f3",
      "metadata": {
        "id": "44fdb8fe-3b63-4ccf-a2a4-a684d468e9f3"
      },
      "outputs": [],
      "source": [
        "import mymodule as np"
      ]
    },
    {
      "cell_type": "code",
      "execution_count": null,
      "id": "67e12779-79c7-4f62-b141-4fed44e76fd1",
      "metadata": {
        "tags": [],
        "id": "67e12779-79c7-4f62-b141-4fed44e76fd1",
        "outputId": "b9aac44a-92c6-4255-9d9c-7bb3299e38c2"
      },
      "outputs": [
        {
          "data": {
            "text/plain": [
              "77"
            ]
          },
          "execution_count": 6,
          "metadata": {},
          "output_type": "execute_result"
        }
      ],
      "source": [
        "np.sin(2)"
      ]
    },
    {
      "cell_type": "code",
      "execution_count": null,
      "id": "3751cbaf-43d6-4ec7-b93e-f5b9bbdd9672",
      "metadata": {
        "id": "3751cbaf-43d6-4ec7-b93e-f5b9bbdd9672"
      },
      "outputs": [],
      "source": []
    }
  ],
  "metadata": {
    "kernelspec": {
      "display_name": "Python [conda env:env_2024] *",
      "language": "python",
      "name": "conda-env-env_2024-py"
    },
    "language_info": {
      "codemirror_mode": {
        "name": "ipython",
        "version": 3
      },
      "file_extension": ".py",
      "mimetype": "text/x-python",
      "name": "python",
      "nbconvert_exporter": "python",
      "pygments_lexer": "ipython3",
      "version": "3.12.4"
    },
    "colab": {
      "provenance": []
    }
  },
  "nbformat": 4,
  "nbformat_minor": 5
}