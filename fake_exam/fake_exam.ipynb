{
  "cells": [
    {
      "cell_type": "markdown",
      "id": "50f40fbb-7263-4005-ad72-822ab5498d41",
      "metadata": {
        "id": "50f40fbb-7263-4005-ad72-822ab5498d41"
      },
      "source": [
        "**Little questions that I would have asked if we had an oral exam:**\n",
        "(meaning that you shouldn't read or google or think for more than 5 seconds to answer them)\n",
        "\n",
        " - How do you create markdown cell in Jupyter? (with keyboard commands)\n",
        " - How do you add a cell above the current one in Jupyter (with keyboard command)?\n",
        " - What does it mean that variables are dynamically typed in python?\n",
        " - What's the difference between python and Fortran integers?\n",
        " - Explain the difference between lists, sets and tuples in python.\n",
        " - What does negative index mean when accessing list elements?\n",
        " - How do you print the first N elements of a list?\n",
        " - How do you print every Nth element of a list?\n",
        " - How do you print the reverse list?\n",
        " - Give an example of a list comprehension.\n",
        " - Give an example of cell and line magic commands in Jupyter.\n",
        " - What are keyword function arguments in python and what is their advantage?\n",
        " - Why shouldn't you do from numpy import *?\n",
        " - What is the advantage of using numpy arrays over lists? What are the dangers?\n",
        " - What's the purpose of __str__ method in a python class?\n",
        " - How do you make \"+\" operator work for your class?\n",
        " - What package can you use in python for symbolic calculations?\n",
        "\n"
      ]
    },
    {
      "cell_type": "code",
      "source": [
        "import numpy as np\n",
        "import math as m\n",
        "import pandas as pd\n",
        "import sympy as sp\n",
        "import matplotlib.pyplot as plt\n",
        "import scipy as scp\n",
        "import matplotlib.animation as animation"
      ],
      "metadata": {
        "id": "n2-v69g7hknd"
      },
      "id": "n2-v69g7hknd",
      "execution_count": null,
      "outputs": []
    },
    {
      "cell_type": "markdown",
      "id": "83c1f234-b71f-40fd-a55e-4af85dc6b142",
      "metadata": {
        "id": "83c1f234-b71f-40fd-a55e-4af85dc6b142"
      },
      "source": [
        "### **Problem1:**\n",
        "\n",
        "Write a function that calculates the first N [Fibonacci numbers](https://en.wikipedia.org/wiki/Fibonacci_number)."
      ]
    },
    {
      "cell_type": "code",
      "source": [
        "def Fibo(N):\n",
        "  a = np.zeros((N))\n",
        "  a[0] = 1\n",
        "  a[1] = 1\n",
        "  for i in range(2, N):\n",
        "    a[i] = a[i-2] + a[i-1]\n",
        "  return a\n",
        "Fibo(10)"
      ],
      "metadata": {
        "colab": {
          "base_uri": "https://localhost:8080/"
        },
        "id": "_GpY70XlhlNU",
        "outputId": "ec90e0e0-6f0e-4133-b306-4724341552f7"
      },
      "id": "_GpY70XlhlNU",
      "execution_count": null,
      "outputs": [
        {
          "output_type": "execute_result",
          "data": {
            "text/plain": [
              "array([ 1.,  1.,  2.,  3.,  5.,  8., 13., 21., 34., 55.])"
            ]
          },
          "metadata": {},
          "execution_count": 79
        }
      ]
    },
    {
      "cell_type": "markdown",
      "id": "7f5e1222-ff80-4c66-b304-b6a8200cde1f",
      "metadata": {
        "id": "7f5e1222-ff80-4c66-b304-b6a8200cde1f"
      },
      "source": [
        "### **Problem2:**\n",
        "\n",
        "Generate random data for 2D points coordinates. Write a function that plots them with different colors for each 90 degree section with the origin in the center. This problem should be coded as a class, i.e. you should be able to execute the code:\n",
        "\n",
        "```\n",
        "pr=Problem2()\n",
        "pr.generate()\n",
        "pr.display()\n",
        "```"
      ]
    },
    {
      "cell_type": "code",
      "source": [
        "class Problem2():\n",
        "  def __init__(self,n):\n",
        "    self.n = n\n",
        "  def generate(self):\n",
        "   self.l = -2 + 4*np.random.random((self.n,2))\n",
        "   return self.l\n",
        "  def display(self):\n",
        "   for i in range(self.n):\n",
        "    j = 2 if (self.l[i,0]* self.l[i,1]>=0) else 0\n",
        "    j = j + 1 if (self.l[i,0]>=0) else j\n",
        "    plt.plot(self.l[i,0], self.l[i,1],'x',color=['r','y','g','m'][j])\n",
        "   plt.show()\n",
        "pr=Problem2(100)\n",
        "pr.generate()\n",
        "pr.display()\n",
        "\n"
      ],
      "metadata": {
        "colab": {
          "base_uri": "https://localhost:8080/",
          "height": 430
        },
        "id": "q-hCv9Uki4Ze",
        "outputId": "7911cbe6-50c6-467a-c85e-f309c13ccbdf"
      },
      "id": "q-hCv9Uki4Ze",
      "execution_count": null,
      "outputs": [
        {
          "output_type": "display_data",
          "data": {
            "text/plain": [
              "<Figure size 640x480 with 1 Axes>"
            ],
            "image/png": "[encoded data removed]"
          },
          "metadata": {}
        }
      ]
    },
    {
      "cell_type": "markdown",
      "id": "d86d921a-3868-42b6-bfa6-bf9a0ee4b7aa",
      "metadata": {
        "id": "d86d921a-3868-42b6-bfa6-bf9a0ee4b7aa"
      },
      "source": [
        "### **Problem3:**\n",
        "\n",
        "Write a decorator that calls a function twice."
      ]
    },
    {
      "cell_type": "code",
      "source": [
        "import time\n",
        "def tw(func):\n",
        "  def wrap(*arg,**kwarg):\n",
        "   func(*arg,**kwarg)\n",
        "   print('1')\n",
        "   func(*arg,**kwarg)\n",
        "   print('2')\n",
        "  return wrap\n",
        "@tw\n",
        "def some():\n",
        "  time.sleep(2)\n",
        "\n",
        "some()"
      ],
      "metadata": {
        "colab": {
          "base_uri": "https://localhost:8080/"
        },
        "id": "t_QpDQ9xoaoo",
        "outputId": "985fa42f-81c0-4e18-ffc1-59aa5ff7bfe8"
      },
      "id": "t_QpDQ9xoaoo",
      "execution_count": null,
      "outputs": [
        {
          "output_type": "stream",
          "name": "stdout",
          "text": [
            "1\n",
            "2\n"
          ]
        }
      ]
    },
    {
      "cell_type": "markdown",
      "id": "50de77fe-d733-42a7-b4ce-650777a0cc87",
      "metadata": {
        "id": "50de77fe-d733-42a7-b4ce-650777a0cc87"
      },
      "source": [
        "### **Problem4:**\n",
        "\n",
        "Use sympy to solve the equation `d^2y(x)/dx^2 + 9y(x)+x=0`\n",
        "Check that it's correct (still using sympy). Hint: you can access the right hand side of solution expression with `.rhs`.\n",
        "\n",
        "Then set the constants equal to 1 and integrate the obtained function numerically using scipy over the interval [0,10]\n",
        "Hint: you can use symply's lambdify function to turn sympy's expression into a function you can use later for scipy.\n"
      ]
    },
    {
      "cell_type": "code",
      "source": [
        "x,C1,C2 = sp.symbols('x, C1, C2')\n",
        "y = sp.Function('y')\n",
        "f = sp.diff(y(x),x,x) + 9*y(x) + x\n",
        "sols = sp.dsolve(sp.diff(y(x),x,x) + 9*y(x) + x,y(x))\n",
        "so = sols.rhs.subs({C1: 1,C2: 1})\n",
        "sp.integrate(so,(x,0,10))\n",
        "scp.integrate.quad(lambda x0: so.subs(x,x0),0, 10)"
      ],
      "metadata": {
        "colab": {
          "base_uri": "https://localhost:8080/"
        },
        "id": "0yUj8gqApkxx",
        "outputId": "80ea16d4-d96a-47d9-e3aa-bb4d36cdd853"
      },
      "id": "0yUj8gqApkxx",
      "execution_count": null,
      "outputs": [
        {
          "output_type": "execute_result",
          "data": {
            "text/plain": [
              "(-5.60298324688237, 1.1628865760251051e-13)"
            ]
          },
          "metadata": {},
          "execution_count": 85
        }
      ]
    },
    {
      "cell_type": "markdown",
      "id": "2c32b9b2-afb0-4903-8d9b-0f60ed4065f1",
      "metadata": {
        "id": "2c32b9b2-afb0-4903-8d9b-0f60ed4065f1"
      },
      "source": [
        "### **Problem5:**\n",
        "(advanced, would be given as a project to do at home and explain at the oral exam)\n",
        "\n",
        "**Solving Laplace equation by Jacobi method**\n",
        "\n",
        "The algorithm used in this problem solves Laplace’s equation on an evenly spaced grid through the use of a simple Jacobi iteration technique. The equation is a partial differential equation named after Pierre-Simon Laplace and are important in many fields of science: namely the fields of electromagnetism, astronomy and fluid dynamics.\n",
        "\n",
        "The equation has the form:\n",
        "\n",
        "```\n",
        "d^2f/dx^2 + d^2f/dy^2=0\n",
        "```\n",
        "\n",
        "**The Algorithm (implement this as a class)**\n",
        "\n",
        " - create a numpy array to store 2 dimensional grid.\n",
        "\n",
        " -  Setup the initial constant boundary conditions in the following way:\n",
        "     - the value at the lower left hand corner of the of the grid is 100,\n",
        "     - the value ascending and to the right is set to a linear gradient reaching zero at the opposite corners (see Figure1). The rest of the borders are fixed at zero. Please note, that these boundaries remain constant throughout the simulation.\n",
        "\n",
        " - Setup the initial condition of the inner grid elements as 0.5.\n",
        "\n",
        "-  Write a jacobi method. At each iteration, the value of each inner matrix element needs to be recomputed from elements of the current iteration (in a similar way to how we did with game of life). The updating formula, based on numerical computation of second derivatives, is:\n",
        "\n",
        "```\n",
        "new_field[i,j]=0.25*(field[i,j-1]+field[i,j+1]+field[i+1,j]+field[i-1,j])\n",
        "```\n",
        " - Think of how to avoid using the loop to do these calculations.\n",
        "\n",
        "![](https://github.com/VCDPhuong/ScientificPython_diploma25/blob/main/fake_exam/jacobiFigure1.jpg?raw=1)\n",
        "\n",
        "Use `imshow` to plot the result. There is a `jacobi.gif` file uploaded that shows how the solution looks like. Making gifs in python is troublesome, so just the final picuture would be enough."
      ]
    },
    {
      "cell_type": "code",
      "execution_count": null,
      "id": "015e7be5-3a05-4994-bf0b-22db043cd3a6",
      "metadata": {
        "colab": {
          "base_uri": "https://localhost:8080/"
        },
        "id": "015e7be5-3a05-4994-bf0b-22db043cd3a6",
        "outputId": "f0808545-667b-4b41-ad66-43fb5efdd891"
      },
      "outputs": [
        {
          "output_type": "stream",
          "name": "stdout",
          "text": [
            "done cals\n"
          ]
        }
      ],
      "source": [
        "class ques5():\n",
        "  def __init__(self,n):\n",
        "    self.n = n\n",
        "  def su(self):\n",
        "    self.b = np.zeros((self.n + 1,self.n + 1))\n",
        "    self.b[:,0] = [100/self.n*i for i in range(self.n + 1)]\n",
        "    self.b[self.n,:] = [100/self.n*(self.n - i) for i in range(self.n + 1)]\n",
        "    self.b[1:self.n,1:self.n] = 0.5\n",
        "    #print(self.b)\n",
        "  def Ja(self):\n",
        "    #print(self.b)\n",
        "    m = np.zeros((self.n + 1,self.n + 1))\n",
        "    m[1:self.n+1,:] = self.b[0:self.n,:]\n",
        "    m[:self.n,:] += self.b[1:self.n+1,:]\n",
        "    m[:,1:self.n+1] += self.b[:,0:self.n]\n",
        "    m[:,:self.n] += self.b[:,1:self.n+1]\n",
        "    self.b[1:self.n,1:self.n] = 0.25*m[1:self.n,1:self.n]\n",
        "\n",
        "  def pl(self):\n",
        "    fig = plt.figure()\n",
        "    im = plt.imshow(self.b,interpolation='none')\n",
        "    ims = []\n",
        "    for i in range(1000):\n",
        "     self.Ja()\n",
        "     im = plt.imshow(self.b,interpolation='none')\n",
        "     ims.append([im])\n",
        "\n",
        "    print(\"done cals\")\n",
        "    ani = animation.ArtistAnimation(fig, ims, interval=50, blit=True,\n",
        "                                repeat_delay=1000)\n",
        "    ani.save('dynamic_images.mp4')\n",
        "    plt.show()\n",
        "    return\n",
        "\n",
        "a=ques5(50)\n",
        "a.su()\n",
        "a.pl()"
      ]
    }
  ],
  "metadata": {
    "kernelspec": {
      "display_name": "Python [conda env:my_env2]",
      "language": "python",
      "name": "conda-env-my_env2-py"
    },
    "language_info": {
      "codemirror_mode": {
        "name": "ipython",
        "version": 3
      },
      "file_extension": ".py",
      "mimetype": "text/x-python",
      "name": "python",
      "nbconvert_exporter": "python",
      "pygments_lexer": "ipython3",
      "version": "3.10.8"
    },
    "colab": {
      "provenance": []
    }
  },
  "nbformat": 4,
  "nbformat_minor": 5
}