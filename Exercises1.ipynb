{
  "cells": [
    {
      "cell_type": "markdown",
      "metadata": {
        "id": "s4kmj6iOXIjl"
      },
      "source": [
        "### **Exercise 0:**\n",
        "\n",
        "Read/look through the Lecture1 notes, make sure you understand them."
      ]
    },
    {
      "cell_type": "code",
      "execution_count": 95,
      "metadata": {
        "id": "3E6EW-caXIjt"
      },
      "outputs": [],
      "source": [
        "import numpy as np\n",
        "import matplotlib.pyplot as plt"
      ]
    },
    {
      "cell_type": "markdown",
      "metadata": {
        "id": "ySB5rBkJXIjw"
      },
      "source": [
        "### **Exercise 1:**\n",
        "Write a function to solve a quadratic equation. Use the formula with the discriminant, only find the real solutions, if they don't exist print some message.\n",
        "\n",
        "Hint: for the square root just use the power 0.5 to avoid having to call a special function which we haven't seen yet."
      ]
    },
    {
      "cell_type": "code",
      "execution_count": 101,
      "metadata": {
        "id": "uFgmIvagXIjy"
      },
      "outputs": [],
      "source": [
        "def solquad(a,b,c):\n",
        "    delta = b**2 -4*a*c\n",
        "    if (delta < 0):\n",
        "        print(\"The function don't have real solutions\")\n",
        "    elif (a == 0):\n",
        "        print(\"a have to be difference from 0\")\n",
        "    elif (delta == 0):\n",
        "        print(\"Solution is:\", -b/(2*a))\n",
        "    else:\n",
        "        print(\"Solutions are:\", (-b + np.sqrt(delta))/(2*a))\n",
        "        print(\"And: \", (-b - np.sqrt(delta))/(2*a))\n",
        "    return"
      ]
    },
    {
      "cell_type": "code",
      "execution_count": 103,
      "metadata": {
        "colab": {
          "base_uri": "https://localhost:8080/"
        },
        "id": "S9G-Q_1IXIjz",
        "outputId": "b8e9400c-e98f-4360-d8fb-0e3cc6491564"
      },
      "outputs": [
        {
          "name": "stdout",
          "output_type": "stream",
          "text": [
            "Solutions are: -0.2928932188134524\n",
            "And:  -1.7071067811865475\n"
          ]
        }
      ],
      "source": [
        "solquad(2,4,1)"
      ]
    },
    {
      "cell_type": "markdown",
      "metadata": {
        "id": "8GkJp1_fXIj1"
      },
      "source": [
        "### **Exercise 2:**\n",
        "The Recamán sequence is a famous sequence invented by the Colombian mathematician, Bernardo Recamán Santos. It is defined by the following algorithm, starting at $a_0=0$:\n",
        "\n",
        "$ a_n=a_{n-1}−n$ if $a_{n-1}-n > 0  $ and has not already appeared in the sequence;\n",
        "\n",
        "$ a_n=a_{n−1}+n$ otherwise\n",
        "\n",
        "Write a function that returns the first N elements of this sequence.\n",
        "\n",
        "You can use lists or sets to store the numbers.\n",
        "\n",
        "(to check that it works - you should get 0, 1, 3, 6, 2, 7, 13, 20, 12, 21, 11, 22, 10, 23, 9, 24, 8, 25, 43, 62, 42, 63, 41, 18, 42, 17, 43, 16, 44, 15, 45, 14, 46, 79, 113, 78, 114, 77, 39, 78, 38, 79, 37, 80, 36, 81, 35, 82)"
      ]
    },
    {
      "cell_type": "code",
      "execution_count": 107,
      "metadata": {
        "colab": {
          "base_uri": "https://localhost:8080/"
        },
        "id": "dEwcQqItXIj3",
        "outputId": "188aadeb-587d-434a-c289-6fad72479159"
      },
      "outputs": [
        {
          "name": "stdout",
          "output_type": "stream",
          "text": [
            "[0, 1, 3, 6, 2, 7, 13, 20, 12, 21, 11, 22, 10, 23, 9, 24, 8, 25, 43, 62, 42, 63, 41, 18, 42, 17, 43, 16, 44, 15, 45, 14, 46, 79, 113, 78, 114, 77, 39, 78, 38, 79, 37, 80, 36, 81, 35, 82, 34, 83]\n"
          ]
        }
      ],
      "source": [
        "a = [0]\n",
        "N = 50\n",
        "for i in range(1, N):\n",
        "    if (a[i-1] - i > 0) and (not any(x == a[i-1] - i for x in a)):\n",
        "        ap = a[i-1] - i\n",
        "    else:\n",
        "        ap = a[i-1] + i\n",
        "    a.append(ap)\n",
        "print(a)"
      ]
    },
    {
      "cell_type": "markdown",
      "metadata": {
        "id": "Ko9neAorXIj5"
      },
      "source": [
        "### **Exercise 3**\n",
        "Print the list `mylist` sorted in descending order. The original list should not be modified\n"
      ]
    },
    {
      "cell_type": "code",
      "execution_count": 5,
      "metadata": {
        "id": "wBgwZL2ZXIj6"
      },
      "outputs": [],
      "source": [
        "mylist=[1,-99,89,0,234,77,-748,11]"
      ]
    },
    {
      "cell_type": "code",
      "execution_count": 12,
      "metadata": {
        "colab": {
          "base_uri": "https://localhost:8080/"
        },
        "id": "THzaeYEWXIj6",
        "outputId": "cd5db819-86ba-4d0c-cec5-ea19df4c70ec"
      },
      "outputs": [
        {
          "name": "stdout",
          "output_type": "stream",
          "text": [
            "442 ns ± 131 ns per loop (mean ± std. dev. of 7 runs, 1000000 loops each)\n"
          ]
        }
      ],
      "source": [
        "%timeit sorted(mylist, reverse=True)"
      ]
    },
    {
      "cell_type": "markdown",
      "metadata": {
        "id": "iyrLF_NOXIj7"
      },
      "source": [
        "### **Exercise 4:**\n",
        "Given 2 lists, produce a list containing common items between the two."
      ]
    },
    {
      "cell_type": "code",
      "execution_count": 109,
      "metadata": {
        "colab": {
          "base_uri": "https://localhost:8080/"
        },
        "id": "Gafvrt2VXIj7",
        "outputId": "7233446e-f105-4f14-e375-fdda67b32a28"
      },
      "outputs": [
        {
          "name": "stdout",
          "output_type": "stream",
          "text": [
            "[1, 2, 3, 4, 6, 3, 2]\n"
          ]
        }
      ],
      "source": [
        "L1 = [1,2,3,4,6,3,2]\n",
        "L2 = [2,4,5,6,3,2,4,2,1,6,8,9,2,5,1,3]\n",
        "print([i for i in L1 if i in L2])"
      ]
    },
    {
      "cell_type": "markdown",
      "metadata": {
        "id": "n_OCcYP_XIj8"
      },
      "source": [
        "### **Exercise 5:**\n",
        "Create a function that returns a list of all pairs of factors (as tuples) of a given number using list comprehension."
      ]
    },
    {
      "cell_type": "code",
      "execution_count": 7,
      "metadata": {
        "id": "BHymZUHGXIj8"
      },
      "outputs": [
        {
          "data": {
            "text/plain": [
              "[(1, 1000.0),\n",
              " (2, 500.0),\n",
              " (4, 250.0),\n",
              " (5, 200.0),\n",
              " (8, 125.0),\n",
              " (10, 100.0),\n",
              " (20, 50.0),\n",
              " (25, 40.0),\n",
              " (40, 25.0),\n",
              " (50, 20.0),\n",
              " (100, 10.0),\n",
              " (125, 8.0),\n",
              " (200, 5.0),\n",
              " (250, 4.0),\n",
              " (500, 2.0)]"
            ]
          },
          "execution_count": 7,
          "metadata": {},
          "output_type": "execute_result"
        }
      ],
      "source": [
        "def printlist(N):\n",
        "    return [(x,N/x) for x in range(1,N) if N%x ==0]\n",
        "printlist(1000)"
      ]
    },
    {
      "cell_type": "markdown",
      "metadata": {
        "id": "yySAwcQyXIj9"
      },
      "source": [
        "### **Exercise 6:**\n",
        "Create a list of all numbers divisible by 3 and smaller than 1000 in 4 different ways:\n",
        "\n",
        " - naive way where you just create a list and append data in a loop\n",
        " - using list comprehension\n",
        " - slicing an existing list\n",
        " - directly with `range()`\n",
        "\n",
        "Time all of them."
      ]
    },
    {
      "cell_type": "code",
      "execution_count": 23,
      "metadata": {
        "id": "1A752jtFXIj9",
        "outputId": "0090dc5e-eb5c-4cb9-9e0e-a5a598551915"
      },
      "outputs": [
        {
          "name": "stdout",
          "output_type": "stream",
          "text": [
            "332 ns ± 12.9 ns per loop (mean ± std. dev. of 7 runs, 1,000,000 loops each)\n",
            "31.1 μs ± 803 ns per loop (mean ± std. dev. of 7 runs, 10,000 loops each)\n"
          ]
        }
      ],
      "source": [
        "base = [x for x in range(0,1000)]\n",
        "D1 = [0]\n",
        "%timeit D1.append(i for i in range(1,1000) if i %3 ==0)\n",
        "%timeit D2 = [x for x in range(0,1000) if (x % 3 ==0)]\n",
        "D3 = base\n",
        "for x in base:\n",
        "    if x%3 != 0:\n",
        "        D3 = base.remove(x)\n",
        "%timeit D4 = [x for x in range(0,1000,3)]"
      ]
    },
    {
      "cell_type": "markdown",
      "metadata": {
        "id": "-TD_oHOuXIj9"
      },
      "source": [
        "### **Exercise 7:**\n",
        "Write a function to check if a string (containing spaces and capital letters, but no punctuation marks) is a palindrome (use help to see which functions are available for a string).\n"
      ]
    },
    {
      "cell_type": "code",
      "execution_count": 51,
      "metadata": {},
      "outputs": [
        {
          "name": "stdout",
          "output_type": "stream",
          "text": [
            "Nope\n",
            "yup\n",
            "yup\n"
          ]
        }
      ],
      "source": [
        "Lnope = \"ab C da\"\n",
        "Lnope2 = \"ab C Ba\"\n",
        "Lyup = \"abcba\"\n",
        "Lyup2 = \"ab C ba\"\n",
        "Leven = \"abccba\"\n",
        "def check(f):\n",
        "    for i in range(0, len(f)//2):\n",
        "        if (f[i] != f[len(f) - i -1]):\n",
        "            #print(i, )\n",
        "            return print(\"Nope\")\n",
        "    return print(\"yup\")\n",
        "check(Lnope2)\n",
        "check(Lyup2)\n",
        "check(Leven)"
      ]
    },
    {
      "cell_type": "markdown",
      "metadata": {
        "id": "l5J60X--XIj-"
      },
      "source": [
        "### **Exercise 8:**\n",
        "Write a function to find a character with a maximum number of occurences in a string. Return a tuple with that character and the number. You can ignore ties. Only use string's inbuilt functions and the function `max` (use help to see how to use it)."
      ]
    },
    {
      "cell_type": "code",
      "execution_count": 89,
      "metadata": {
        "colab": {
          "base_uri": "https://localhost:8080/"
        },
        "id": "6beBiXGokjB4",
        "outputId": "98bb00e2-ce3e-4499-e7e7-c9465300c20e"
      },
      "outputs": [
        {
          "data": {
            "text/plain": [
              "(['s', 'a'], 3)"
            ]
          },
          "execution_count": 89,
          "metadata": {},
          "output_type": "execute_result"
        }
      ],
      "source": [
        "st = 'sss aaa'\n",
        "def checkcoi(st):\n",
        "    a = []\n",
        "    for i in range(0,len(st)): #create none iterable list from string st\n",
        "        if (st[i] not in a):\n",
        "            a.append(st[i])\n",
        "    b = [0 for x in a] #string to count the character in string a\n",
        "    for i in range(0, len(a)):\n",
        "        for j in range(0, len(st)):\n",
        "            if (a[i] == st[j]):\n",
        "                b[i] += 1\n",
        "    c = [a[i] for i in range(0,len(a)) if b[i] == max(b)] #string to report in case have two character happend at the same frequency\n",
        "    return (c, max(b))\n",
        "checkcoi(st)"
      ]
    },
    {
      "cell_type": "markdown",
      "metadata": {
        "id": "CUIahz45XIj-"
      },
      "source": [
        "### **Exercise 9:**\n",
        "Write a function that return the first N prime numbers using the Sieve of Eratosphenes algorithm\n",
        "\n",
        "https://en.wikipedia.org/wiki/Sieve_of_Eratosthenes"
      ]
    },
    {
      "cell_type": "code",
      "execution_count": 30,
      "metadata": {
        "colab": {
          "base_uri": "https://localhost:8080/"
        },
        "id": "zXyt8rBSXIj-",
        "outputId": "71f20e94-542a-45a1-ab90-b3dbd08f3a46"
      },
      "outputs": [
        {
          "name": "stdout",
          "output_type": "stream",
          "text": [
            "[0, 1, 2, 3, 4, 5, 6, 7, 8, 9, 10, 11, 12, 13, 14, 15, 16, 17, 18, 19, 20, 21, 22, 23, 24, 25, 26, 27, 28, 29, 30, 31, 32, 33, 34, 35, 36, 37, 38, 39, 40, 41, 42, 43, 44, 45, 46, 47, 48, 49, 50, 51, 52, 53, 54, 55, 56, 57, 58, 59, 60, 61, 62, 63, 64, 65, 66, 67, 68, 69, 70, 71, 72, 73, 74, 75, 76, 77, 78, 79, 80, 81, 82, 83, 84, 85, 86, 87, 88, 89, 90, 91, 92, 93, 94, 95, 96, 97, 98, 99]\n",
            "[0, 1, 2, 3, 5, 7, 11, 13, 17, 19, 23, 29, 31, 37, 41, 43, 47, 53, 59, 61, 67, 71, 73, 79, 83, 89, 97]\n"
          ]
        }
      ],
      "source": [
        "N= 100\n",
        "L=[x for x in range(0,N)]\n",
        "print(L)\n",
        "i=2\n",
        "while i < len(L):\n",
        "  q=N//L[i]\n",
        "  Lp=[L[i]*x for x in range(2,q+1)]\n",
        "  L=[x for x in L if x not in Lp]\n",
        "  i+=1\n",
        "print(L)"
      ]
    }
  ],
  "metadata": {
    "colab": {
      "provenance": []
    },
    "kernelspec": {
      "display_name": "Python 3",
      "language": "python",
      "name": "python3"
    },
    "language_info": {
      "codemirror_mode": {
        "name": "ipython",
        "version": 3
      },
      "file_extension": ".py",
      "mimetype": "text/x-python",
      "name": "python",
      "nbconvert_exporter": "python",
      "pygments_lexer": "ipython3",
      "version": "3.11.9"
    }
  },
  "nbformat": 4,
  "nbformat_minor": 0
}
